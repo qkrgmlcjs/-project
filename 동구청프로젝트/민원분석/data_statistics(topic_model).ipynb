{
 "cells": [
  {
   "cell_type": "markdown",
   "id": "8d32127d",
   "metadata": {},
   "source": [
    "### 통계치 확인"
   ]
  },
  {
   "cell_type": "code",
   "execution_count": 1,
   "id": "df6e7cdf",
   "metadata": {
    "scrolled": true
   },
   "outputs": [],
   "source": [
    "import warnings\n",
    "warnings.filterwarnings('ignore')"
   ]
  },
  {
   "cell_type": "code",
   "execution_count": 2,
   "id": "34bd02b6",
   "metadata": {
    "scrolled": true
   },
   "outputs": [],
   "source": [
    "import pandas as pd\n",
    "import pandas as pd\n",
    "df=pd.read_csv('민원.csv', encoding='cp949')\n",
    "df=df.drop_duplicates().dropna()\n",
    "df=df.drop(['처리상태','가상번호'], axis=1)\n",
    "df['등록일자']=df['등록일자'].str[6:]\n",
    "df['등록일자']=pd.to_datetime(df['등록일자'])\n",
    "df['날짜_월']=df['등록일자'].dt.month\n",
    "df['날짜_일']=df['등록일자'].dt.day\n",
    "df=df.drop('등록일자', axis=1)\n",
    "\n",
    "분류_갯수=df.groupby(['분류'])['제목'].count()\n",
    "분류_갯수.to_csv('분류_갯수.csv', encoding='cp949', index=False)\n",
    "\n",
    "df['분기']=pd.cut(df['날짜_월'],bins=[0,3,6,9,13], labels=[1,2,3,4])\n",
    "분류_분기_갯수=df.groupby(['분류','분기'])['제목'].count()\n",
    "분류_분기_갯수.to_csv('분류_분기_갯수.csv', encoding='cp949', index=False)"
   ]
  },
  {
   "cell_type": "code",
   "execution_count": null,
   "id": "45b6a5e3",
   "metadata": {},
   "outputs": [],
   "source": []
  },
  {
   "cell_type": "code",
   "execution_count": 3,
   "id": "a344f64d",
   "metadata": {},
   "outputs": [
    {
     "name": "stdout",
     "output_type": "stream",
     "text": [
      "건설ㆍ교통\n",
      "기타\n",
      "보건ㆍ복지\n",
      "도시ㆍ건축\n",
      "미담사례\n",
      "환경ㆍ청소\n",
      "공원ㆍ체육\n",
      "문화ㆍ경제\n"
     ]
    }
   ],
   "source": [
    "분류_unique=df['분류'].unique()\n",
    "for i in 분류_unique:\n",
    "    print(i)\n",
    "    df_분류=df[df['분류']==i]\n",
    "    df_분류.to_csv('분류/분류_'+i+'.csv', encoding='cp949', index=False)"
   ]
  },
  {
   "cell_type": "markdown",
   "id": "a27554d6",
   "metadata": {},
   "source": [
    "### topic_model_전체"
   ]
  },
  {
   "cell_type": "code",
   "execution_count": 4,
   "id": "964eec96",
   "metadata": {},
   "outputs": [],
   "source": [
    "data=df[['제목']]\n",
    "data=data.drop_duplicates().dropna()\n",
    "data_=data['제목'].values.tolist()\n",
    "import re\n",
    "regex=[]\n",
    "\n",
    "for i in range(len(data_)):\n",
    "    text=re.sub('[^0-9ㄱ-힣]', ' ', str(data_[i]))\n",
    "    text=re.sub(' +', ' ', text)\n",
    "    regex.append(text)\n",
    "regex\n",
    "#명사추출\n",
    "#!pip install konlpy\n",
    "from konlpy.tag import Okt\n",
    "okt=Okt()\n",
    "\n",
    "noun=[]\n",
    "for j in range(len(regex)):\n",
    "    noun.append(okt.nouns(regex[j]))\n",
    "\n",
    "    \n",
    "# !pip install gensim\n",
    "import gensim\n",
    "\n",
    "id2word = gensim.corpora.Dictionary(noun)\n",
    "texts=noun.copy()\n",
    "\n",
    "for index,word in enumerate(texts):\n",
    "    for i, w in enumerate(word):\n",
    "        if len(w)<2:\n",
    "            texts[index].pop(i)\n",
    "#doc2bos-> 단어를 숫자로 변환\n",
    "corpus=[id2word.doc2bow(text) for text in texts]\n",
    "\n",
    "# topic 개수 몇개로 할지\n",
    "number=5\n",
    "\n",
    "model = gensim.models.ldamodel.LdaModel(corpus=corpus, \n",
    "                                        id2word=id2word, \n",
    "                                        num_topics=number, \n",
    "                                        random_state=25)\n",
    "model.show_topics(formatted=False)\n",
    "#시각화 2.1.2버전이 잘 작동함\n",
    "#!pip install pyLDAvis==2.1.2\n",
    "import pyLDAvis.gensim\n",
    "\n",
    "vis=pyLDAvis.gensim.prepare(model,corpus, id2word)\n",
    "pyLDAvis.save_html(vis,'LDA/LDA_전체.html')"
   ]
  },
  {
   "cell_type": "code",
   "execution_count": 5,
   "id": "7fb278ca",
   "metadata": {},
   "outputs": [
    {
     "name": "stderr",
     "output_type": "stream",
     "text": [
      "C:\\Users\\user\\anaconda3\\lib\\site-packages\\ipykernel\\ipkernel.py:287: DeprecationWarning: `should_run_async` will not call `transform_cell` automatically in the future. Please pass the result to `transformed_cell` argument and any exception that happen during thetransform in `preprocessing_exc_tuple` in IPython 7.17 and above.\n",
      "  and should_run_async(code)\n"
     ]
    },
    {
     "data": {
      "text/plain": [
       "array(['건설ㆍ교통', '기타', '보건ㆍ복지', '도시ㆍ건축', '미담사례', '환경ㆍ청소', '공원ㆍ체육', '문화ㆍ경제'],\n",
       "      dtype=object)"
      ]
     },
     "execution_count": 5,
     "metadata": {},
     "output_type": "execute_result"
    }
   ],
   "source": [
    "분류_unique"
   ]
  },
  {
   "cell_type": "code",
   "execution_count": 6,
   "id": "b32f0f9a",
   "metadata": {
    "scrolled": true
   },
   "outputs": [
    {
     "name": "stderr",
     "output_type": "stream",
     "text": [
      "C:\\Users\\user\\anaconda3\\lib\\site-packages\\ipykernel\\ipkernel.py:287: DeprecationWarning: `should_run_async` will not call `transform_cell` automatically in the future. Please pass the result to `transformed_cell` argument and any exception that happen during thetransform in `preprocessing_exc_tuple` in IPython 7.17 and above.\n",
      "  and should_run_async(code)\n"
     ]
    }
   ],
   "source": [
    "# 분류별 파일 만들기\n",
    "for m in 분류_unique:\n",
    "    df=pd.read_csv('분류/분류_'+m+'.csv', encoding='cp949')\n",
    "    data=df[['제목']]\n",
    "    data=data.drop_duplicates().dropna()\n",
    "    data_=data['제목'].values.tolist()\n",
    "    \n",
    "    import re\n",
    "    regex=[]\n",
    "\n",
    "    for i in range(len(data_)):\n",
    "        text=re.sub('[^0-9ㄱ-힣]', ' ', str(data_[i]))\n",
    "        text=re.sub(' +', ' ', text)\n",
    "        regex.append(text)\n",
    "    regex\n",
    "    #명사추출\n",
    "    #!pip install konlpy\n",
    "    from konlpy.tag import Okt\n",
    "    okt=Okt()\n",
    "\n",
    "    noun=[]\n",
    "    for j in range(len(regex)):\n",
    "        noun.append(okt.nouns(regex[j]))\n",
    "\n",
    "    #!pip install gensim\n",
    "    import gensim\n",
    "\n",
    "    id2word = gensim.corpora.Dictionary(noun)\n",
    "    texts=noun.copy()\n",
    "\n",
    "    for index,word in enumerate(texts):\n",
    "        for i, w in enumerate(word):\n",
    "            if len(w)<2:\n",
    "                texts[index].pop(i)\n",
    "    #doc2bos-> 단어를 숫자로 변환\n",
    "    corpus=[id2word.doc2bow(text) for text in texts]\n",
    "\n",
    "    # topic 개수 몇개로 할지\n",
    "    number=5\n",
    "\n",
    "    model = gensim.models.ldamodel.LdaModel(corpus=corpus, \n",
    "                                            id2word=id2word, \n",
    "                                            num_topics=number, \n",
    "                                            random_state=25)\n",
    "    model.show_topics(formatted=False)\n",
    "    #시각화 2.1.2버전이 잘 작동함\n",
    "    #!pip install pyLDAvis==2.1.2\n",
    "    import pyLDAvis.gensim\n",
    "\n",
    "    vis=pyLDAvis.gensim.prepare(model,corpus, id2word)\n",
    "    pyLDAvis.save_html(vis,'LDA/LDA_'+m+'.html')"
   ]
  },
  {
   "cell_type": "code",
   "execution_count": null,
   "id": "bccdbd8b",
   "metadata": {},
   "outputs": [],
   "source": []
  },
  {
   "cell_type": "code",
   "execution_count": null,
   "id": "7508cef2",
   "metadata": {},
   "outputs": [],
   "source": []
  }
 ],
 "metadata": {
  "kernelspec": {
   "display_name": "Python 3",
   "language": "python",
   "name": "python3"
  },
  "language_info": {
   "codemirror_mode": {
    "name": "ipython",
    "version": 3
   },
   "file_extension": ".py",
   "mimetype": "text/x-python",
   "name": "python",
   "nbconvert_exporter": "python",
   "pygments_lexer": "ipython3",
   "version": "3.8.8"
  }
 },
 "nbformat": 4,
 "nbformat_minor": 5
}
