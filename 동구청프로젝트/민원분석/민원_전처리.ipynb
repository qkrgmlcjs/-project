{
 "cells": [
  {
   "cell_type": "code",
   "execution_count": 1,
   "id": "bae3f364",
   "metadata": {},
   "outputs": [],
   "source": [
    "import warnings\n",
    "warnings.filterwarnings('ignore')\n",
    "import pandas as pd\n",
    "minone=pd.read_csv('민원.csv', encoding='cp949')\n",
    "minone=minone[minone['분류'].notnull()]\n",
    "minone=minone.drop(['처리상태','가상번호'], axis=1)\n",
    "minone['등록일자']=minone['등록일자'].str[6:]\n",
    "minone['등록일자']=pd.to_datetime(minone['등록일자'])\n",
    "minone['날짜_월']=minone['등록일자'].dt.month\n",
    "minone['날짜_일']=minone['등록일자'].dt.day\n",
    "minone=minone.drop('등록일자', axis=1)\n",
    "\n",
    "# 특수문자, 영어 전처리\n",
    "import re\n",
    "\n",
    "def text_cleaning(X):\n",
    "    hangul = re.compile('[^ ㄱ-ㅣ가-힣]+')\n",
    "    result=hangul.sub('', X)\n",
    "    return result\n",
    "minone['제목']=minone['제목'].apply(lambda x: text_cleaning(x))\n",
    "minone['분류']=minone['분류'].apply(lambda x: text_cleaning(x))\n",
    "minone.to_csv('민원_전처리.csv', encoding='cp949',index=False )"
   ]
  },
  {
   "cell_type": "code",
   "execution_count": null,
   "id": "4a5ac664",
   "metadata": {},
   "outputs": [],
   "source": []
  },
  {
   "cell_type": "code",
   "execution_count": null,
   "id": "6bae2c7d",
   "metadata": {},
   "outputs": [],
   "source": []
  }
 ],
 "metadata": {
  "kernelspec": {
   "display_name": "Python 3",
   "language": "python",
   "name": "python3"
  },
  "language_info": {
   "codemirror_mode": {
    "name": "ipython",
    "version": 3
   },
   "file_extension": ".py",
   "mimetype": "text/x-python",
   "name": "python",
   "nbconvert_exporter": "python",
   "pygments_lexer": "ipython3",
   "version": "3.8.8"
  }
 },
 "nbformat": 4,
 "nbformat_minor": 5
}
