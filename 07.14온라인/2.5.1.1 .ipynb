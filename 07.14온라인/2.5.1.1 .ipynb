{
 "cells": [
  {
   "cell_type": "code",
   "execution_count": 1,
   "id": "22a73e54-ca3c-48e9-94bb-dd84bd932850",
   "metadata": {},
   "outputs": [],
   "source": [
    "import re"
   ]
  },
  {
   "cell_type": "code",
   "execution_count": 3,
   "id": "8a13c90f-2f9a-4216-8216-ab26427f3f08",
   "metadata": {},
   "outputs": [
    {
     "data": {
      "text/plain": [
       "<re.Match object; span=(0, 3), match='abc'>"
      ]
     },
     "execution_count": 3,
     "metadata": {},
     "output_type": "execute_result"
    }
   ],
   "source": [
    "re.search(r'a.*c','abc123DEF')"
   ]
  },
  {
   "cell_type": "code",
   "execution_count": 4,
   "id": "54bf855f-d08f-4a20-816a-df2e6c6884b1",
   "metadata": {},
   "outputs": [],
   "source": [
    "re.search(r'a.*d','abc123DEF')"
   ]
  },
  {
   "cell_type": "code",
   "execution_count": 5,
   "id": "d72a9acb-c24d-4223-88e2-376b669c789b",
   "metadata": {},
   "outputs": [
    {
     "data": {
      "text/plain": [
       "<re.Match object; span=(0, 7), match='abc123D'>"
      ]
     },
     "execution_count": 5,
     "metadata": {},
     "output_type": "execute_result"
    }
   ],
   "source": [
    "re.search(r'a.*d','abc123DEF',re.IGNORECASE)"
   ]
  },
  {
   "cell_type": "code",
   "execution_count": 8,
   "id": "a7ee4032-ccac-4f1a-9fb0-844cae18e6a8",
   "metadata": {},
   "outputs": [],
   "source": [
    "m= re.search(r'a(.*c)','abc123DEF')"
   ]
  },
  {
   "cell_type": "code",
   "execution_count": 9,
   "id": "eaf6a778-bba8-431c-822a-939f2cc3c857",
   "metadata": {},
   "outputs": [
    {
     "data": {
      "text/plain": [
       "'abc'"
      ]
     },
     "execution_count": 9,
     "metadata": {},
     "output_type": "execute_result"
    }
   ],
   "source": [
    "m.group(0)"
   ]
  },
  {
   "cell_type": "code",
   "execution_count": 12,
   "id": "fb65d6a5-9cd2-4a13-bf67-5a0ebfb95527",
   "metadata": {},
   "outputs": [
    {
     "data": {
      "text/plain": [
       "'bc'"
      ]
     },
     "execution_count": 12,
     "metadata": {},
     "output_type": "execute_result"
    }
   ],
   "source": [
    "m.group(1)"
   ]
  },
  {
   "cell_type": "code",
   "execution_count": 13,
   "id": "465e3b28-c949-48bd-90f5-010f630f7d82",
   "metadata": {},
   "outputs": [
    {
     "data": {
      "text/plain": [
       "['This', 'is', 'pen']"
      ]
     },
     "execution_count": 13,
     "metadata": {},
     "output_type": "execute_result"
    }
   ],
   "source": [
    "re.findall(r'\\w{2,}','This is a pen')"
   ]
  },
  {
   "cell_type": "code",
   "execution_count": 14,
   "id": "feb4620a-39f4-4fc9-ad46-8c6f4feed927",
   "metadata": {},
   "outputs": [
    {
     "data": {
      "text/plain": [
       "'That That a That'"
      ]
     },
     "execution_count": 14,
     "metadata": {},
     "output_type": "execute_result"
    }
   ],
   "source": [
    "re.sub(r'\\w{2,}','That','This is a pen')"
   ]
  },
  {
   "cell_type": "code",
   "execution_count": null,
   "id": "449751e7-de97-4e1b-a245-93b26587427a",
   "metadata": {},
   "outputs": [],
   "source": []
  }
 ],
 "metadata": {
  "kernelspec": {
   "display_name": "Python 3",
   "language": "python",
   "name": "python3"
  },
  "language_info": {
   "codemirror_mode": {
    "name": "ipython",
    "version": 3
   },
   "file_extension": ".py",
   "mimetype": "text/x-python",
   "name": "python",
   "nbconvert_exporter": "python",
   "pygments_lexer": "ipython3",
   "version": "3.8.8"
  }
 },
 "nbformat": 4,
 "nbformat_minor": 5
}
