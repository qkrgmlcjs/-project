{
 "cells": [
  {
   "cell_type": "markdown",
   "id": "81f7d441-57d1-46fc-96b4-c0d00ea6f7ca",
   "metadata": {},
   "source": [
    "# scrape_re.ipynb 실습\n"
   ]
  },
  {
   "cell_type": "code",
   "execution_count": null,
   "id": "bcc44e70-f2e5-4420-a628-9af44b263566",
   "metadata": {},
   "outputs": [],
   "source": []
  }
 ],
 "metadata": {
  "kernelspec": {
   "display_name": "Python 3",
   "language": "python",
   "name": "python3"
  },
  "language_info": {
   "codemirror_mode": {
    "name": "ipython",
    "version": 3
   },
   "file_extension": ".py",
   "mimetype": "text/x-python",
   "name": "python",
   "nbconvert_exporter": "python",
   "pygments_lexer": "ipython3",
   "version": "3.8.8"
  }
 },
 "nbformat": 4,
 "nbformat_minor": 5
}
