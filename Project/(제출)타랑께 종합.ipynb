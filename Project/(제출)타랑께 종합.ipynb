{
 "cells": [
  {
   "cell_type": "code",
   "execution_count": 71,
   "id": "bafbc1ee-537f-4496-9817-d1cd3744e537",
   "metadata": {},
   "outputs": [
    {
     "data": {
      "text/html": [
       "<div>\n",
       "<style scoped>\n",
       "    .dataframe tbody tr th:only-of-type {\n",
       "        vertical-align: middle;\n",
       "    }\n",
       "\n",
       "    .dataframe tbody tr th {\n",
       "        vertical-align: top;\n",
       "    }\n",
       "\n",
       "    .dataframe thead th {\n",
       "        text-align: right;\n",
       "    }\n",
       "</style>\n",
       "<table border=\"1\" class=\"dataframe\">\n",
       "  <thead>\n",
       "    <tr style=\"text-align: right;\">\n",
       "      <th></th>\n",
       "      <th>출발시각</th>\n",
       "      <th>도착시각</th>\n",
       "      <th>사용시간</th>\n",
       "    </tr>\n",
       "  </thead>\n",
       "  <tbody>\n",
       "    <tr>\n",
       "      <th>0</th>\n",
       "      <td>2020-07-01 8:25</td>\n",
       "      <td>2020-07-01 8:31</td>\n",
       "      <td>0 days 00:06:24</td>\n",
       "    </tr>\n",
       "    <tr>\n",
       "      <th>1</th>\n",
       "      <td>2020-07-01 11:21</td>\n",
       "      <td>2020-07-01 12:24</td>\n",
       "      <td>0 days 01:02:50</td>\n",
       "    </tr>\n",
       "    <tr>\n",
       "      <th>2</th>\n",
       "      <td>2020-07-01 11:34</td>\n",
       "      <td>2020-07-01 11:44</td>\n",
       "      <td>0 days 00:09:59</td>\n",
       "    </tr>\n",
       "    <tr>\n",
       "      <th>3</th>\n",
       "      <td>2020-07-01 11:40</td>\n",
       "      <td>2020-07-01 11:59</td>\n",
       "      <td>0 days 00:18:59</td>\n",
       "    </tr>\n",
       "    <tr>\n",
       "      <th>4</th>\n",
       "      <td>2020-07-01 12:45</td>\n",
       "      <td>2020-07-01 12:54</td>\n",
       "      <td>0 days 00:08:58</td>\n",
       "    </tr>\n",
       "    <tr>\n",
       "      <th>...</th>\n",
       "      <td>...</td>\n",
       "      <td>...</td>\n",
       "      <td>...</td>\n",
       "    </tr>\n",
       "    <tr>\n",
       "      <th>10860</th>\n",
       "      <td>2021-02-05 13:59</td>\n",
       "      <td>2021-02-05 14:07</td>\n",
       "      <td>0 days 00:07:28</td>\n",
       "    </tr>\n",
       "    <tr>\n",
       "      <th>10861</th>\n",
       "      <td>2021-02-05 14:11</td>\n",
       "      <td>2021-02-05 14:29</td>\n",
       "      <td>0 days 00:18:05</td>\n",
       "    </tr>\n",
       "    <tr>\n",
       "      <th>10862</th>\n",
       "      <td>2021-02-05 14:16</td>\n",
       "      <td>2021-02-05 15:30</td>\n",
       "      <td>0 days 01:14:11</td>\n",
       "    </tr>\n",
       "    <tr>\n",
       "      <th>10863</th>\n",
       "      <td>2021-02-05 14:50</td>\n",
       "      <td>2021-02-05 18:40</td>\n",
       "      <td>0 days 03:49:59</td>\n",
       "    </tr>\n",
       "    <tr>\n",
       "      <th>10864</th>\n",
       "      <td>2021-02-05 15:12</td>\n",
       "      <td>2021-02-05 16:11</td>\n",
       "      <td>0 days 00:58:45</td>\n",
       "    </tr>\n",
       "  </tbody>\n",
       "</table>\n",
       "<p>10865 rows × 3 columns</p>\n",
       "</div>"
      ],
      "text/plain": [
       "                   출발시각              도착시각             사용시간\n",
       "0       2020-07-01 8:25   2020-07-01 8:31  0 days 00:06:24\n",
       "1      2020-07-01 11:21  2020-07-01 12:24  0 days 01:02:50\n",
       "2      2020-07-01 11:34  2020-07-01 11:44  0 days 00:09:59\n",
       "3      2020-07-01 11:40  2020-07-01 11:59  0 days 00:18:59\n",
       "4      2020-07-01 12:45  2020-07-01 12:54  0 days 00:08:58\n",
       "...                 ...               ...              ...\n",
       "10860  2021-02-05 13:59  2021-02-05 14:07  0 days 00:07:28\n",
       "10861  2021-02-05 14:11  2021-02-05 14:29  0 days 00:18:05\n",
       "10862  2021-02-05 14:16  2021-02-05 15:30  0 days 01:14:11\n",
       "10863  2021-02-05 14:50  2021-02-05 18:40  0 days 03:49:59\n",
       "10864  2021-02-05 15:12  2021-02-05 16:11  0 days 00:58:45\n",
       "\n",
       "[10865 rows x 3 columns]"
      ]
     },
     "execution_count": 71,
     "metadata": {},
     "output_type": "execute_result"
    }
   ],
   "source": [
    "#타랑께 이용지점 빈도수\n",
    "import pandas as pd\n",
    "import numpy as np\n",
    "a = pd.read_csv('자전거_사용시간_최종.csv',index_col = 0,encoding = 'cp949')\n",
    "df = pd.DataFrame(a) #종합(평일+주말) 사용시간 \n",
    "df"
   ]
  },
  {
   "cell_type": "markdown",
   "id": "269964b3-e904-4682-9421-45dd69974910",
   "metadata": {},
   "source": [
    "# 월별 현황"
   ]
  },
  {
   "cell_type": "code",
   "execution_count": 78,
   "id": "6a8c7d38-21a6-4578-951e-871ebd274780",
   "metadata": {},
   "outputs": [],
   "source": [
    "start=[]\n",
    "for x in range(0, len(df)): \n",
    "    start.append(df['출발시각'][x]) #출발시각 열 추출"
   ]
  },
  {
   "cell_type": "code",
   "execution_count": 79,
   "id": "d97a9d63-d8e7-474f-81f3-be8cfcbfacc7",
   "metadata": {},
   "outputs": [],
   "source": [
    "month = []\n",
    "for i in range(0, len(df)):  #월 추출\n",
    "    month.append(start[i][5:7])"
   ]
  },
  {
   "cell_type": "code",
   "execution_count": 74,
   "id": "e7686199-9fa1-4aaf-a86c-99ef579d77ce",
   "metadata": {},
   "outputs": [
    {
     "name": "stdout",
     "output_type": "stream",
     "text": [
      "{'07': 446, '08': 1438, '09': 2723, '10': 3594, '11': 1324, '12': 629, '01': 582, '02': 129}\n"
     ]
    }
   ],
   "source": [
    "dict = {}\n",
    "for v in month:#월별 사용량 키, 밸류값으로 분류\n",
    "    if dict.get(v): dict[v]+=1\n",
    "    else : dict[v]=1\n",
    "        \n",
    "print(dict)"
   ]
  },
  {
   "cell_type": "code",
   "execution_count": 75,
   "id": "2a409ecd-6342-415d-a6f1-3c09e46f7775",
   "metadata": {},
   "outputs": [],
   "source": [
    "y = (list(dict.values()))\n",
    "x = (list(dict.keys()))"
   ]
  },
  {
   "cell_type": "code",
   "execution_count": 76,
   "id": "849544d3-6d37-4dc8-9b1f-51fe036aaf20",
   "metadata": {},
   "outputs": [
    {
     "data": {
      "text/plain": [
       "['07', '08', '09', '10', '11', '12', '01', '02']"
      ]
     },
     "execution_count": 76,
     "metadata": {},
     "output_type": "execute_result"
    }
   ],
   "source": [
    "x"
   ]
  },
  {
   "cell_type": "code",
   "execution_count": 77,
   "id": "6d2e5eae-6022-46d2-855d-bddc5d40d57b",
   "metadata": {},
   "outputs": [
    {
     "data": {
      "image/png": "[encoded data removed]",
      "text/plain": [
       "<Figure size 432x288 with 1 Axes>"
      ]
     },
     "metadata": {
      "needs_background": "light"
     },
     "output_type": "display_data"
    }
   ],
   "source": [
    "import matplotlib.pyplot as plt\n",
    "plt.rcParams['font.family'] = 'Malgun Gothic'\n",
    "\n",
    "plt.bar(x, y) #\n",
    "plt.xlabel('월')\n",
    "plt.ylabel('이용건수') #월별 사용량 시각화\n",
    "\n",
    "for i,v in enumerate(x) :\n",
    "    plt.text(v, y[i], y[i],\n",
    "            fontsize =9,\n",
    "             color = 'black',\n",
    "             horizontalalignment='center',\n",
    "              verticalalignment='bottom'\n",
    "            )\n",
    "\n",
    "\n",
    "plt.show()"
   ]
  },
  {
   "cell_type": "markdown",
   "id": "b5ecf277-c6b5-48c2-b338-69c3ac17d4c0",
   "metadata": {},
   "source": [
    "--------"
   ]
  },
  {
   "cell_type": "markdown",
   "id": "6f10038e-7ffe-4505-85b6-b86324fc7e8a",
   "metadata": {},
   "source": [
    "# 탑승 지속시간"
   ]
  },
  {
   "cell_type": "markdown",
   "id": "c3df42b0-2313-4882-99e5-3e9f7f6a333c",
   "metadata": {},
   "source": [
    "## hour"
   ]
  },
  {
   "cell_type": "code",
   "execution_count": 49,
   "id": "187702ea-681f-49a1-a228-2dd3477be7dc",
   "metadata": {},
   "outputs": [],
   "source": [
    "usage=[]\n",
    "for x in range(1, len(df)):\n",
    "    usage.append(df['사용시간'][x]) #사용시간 추출"
   ]
  },
  {
   "cell_type": "code",
   "execution_count": 50,
   "id": "95876bd3-f1aa-474a-8c14-657adebf268c",
   "metadata": {},
   "outputs": [],
   "source": [
    "hour = []\n",
    "minute = []        #시간, 분 추출\n",
    "for i in range(0, len(usage)):\n",
    "    if usage[i][8] == '0':\n",
    "        minute.append(usage[i][10:12])\n",
    "    elif usage[i][8] != '0' :\n",
    "        hour.append(usage[i][8])"
   ]
  },
  {
   "cell_type": "code",
   "execution_count": 51,
   "id": "ad19f095-bf54-4c18-aebe-fdf4d96421a1",
   "metadata": {},
   "outputs": [],
   "source": [
    "hour_int = list(map(int, hour)) \n",
    "remove_set = {4, 5, 6, 7, 8, 9} \n",
    "hour_new = [i for i in hour_int if i not in remove_set]"
   ]
  },
  {
   "cell_type": "code",
   "execution_count": 52,
   "id": "9bba357f-69b1-4ae3-9adf-390915e744d2",
   "metadata": {},
   "outputs": [
    {
     "name": "stdout",
     "output_type": "stream",
     "text": [
      "{1: 2574, 2: 227, 3: 84}\n"
     ]
    }
   ],
   "source": [
    "dict = {} \n",
    "for v in hour_new:\n",
    "    if dict.get(v): dict[v]+=1\n",
    "    else : dict[v]=1\n",
    "        \n",
    "print(dict)"
   ]
  },
  {
   "cell_type": "code",
   "execution_count": 53,
   "id": "dfd66aa4-fd69-4594-9380-b2dd17e4d724",
   "metadata": {},
   "outputs": [],
   "source": [
    "hour = [60, 120, 180]             #\n",
    "hour_count = (list(dict.values()))"
   ]
  },
  {
   "cell_type": "markdown",
   "id": "58aa88f4-0c11-47ef-b333-b36d29f98d45",
   "metadata": {},
   "source": [
    "## minute"
   ]
  },
  {
   "cell_type": "code",
   "execution_count": 54,
   "id": "87eb97d9-0d76-4b6b-b392-70cf4e07fe13",
   "metadata": {},
   "outputs": [],
   "source": [
    "minute.sort()"
   ]
  },
  {
   "cell_type": "code",
   "execution_count": 55,
   "id": "79f27230-3ade-45be-9dcd-6008c2669975",
   "metadata": {},
   "outputs": [],
   "source": [
    "dict1 = {}\n",
    "for v in minute:        #분 추출\n",
    "    if dict1.get(v): dict1[v]+=1\n",
    "    else : dict1[v]=1"
   ]
  },
  {
   "cell_type": "code",
   "execution_count": 56,
   "id": "e1f5010f-f001-4d6a-abe0-3aa5c8ccf097",
   "metadata": {},
   "outputs": [],
   "source": [
    "x = (list(dict1.keys()))\n",
    "y = (list(dict1.values()))\n",
    "x = list(map(int, x))"
   ]
  },
  {
   "cell_type": "code",
   "execution_count": 57,
   "id": "b2b4c0e8-9f8b-42e4-b97f-30564e928cbd",
   "metadata": {},
   "outputs": [],
   "source": [
    "minute_by_10 = [] # 분 10분 단위 사용량 추출\n",
    "division = [10, 20, 30, 40, 50, 60]\n",
    "for i in division:\n",
    "    q = sum(y[i-10:i])\n",
    "    minute_by_10.append(q)"
   ]
  },
  {
   "cell_type": "markdown",
   "id": "5abef2c7-eea5-4c41-9271-852ebe18599f",
   "metadata": {},
   "source": [
    "## hour + minute"
   ]
  },
  {
   "cell_type": "code",
   "execution_count": 58,
   "id": "38fd99f2-f478-4649-8a45-04e9dffd0b12",
   "metadata": {},
   "outputs": [],
   "source": [
    "a = division + hour\n",
    "b = minute_by_10 + hour_count"
   ]
  },
  {
   "cell_type": "code",
   "execution_count": 59,
   "id": "1bbc6b47-cd80-4b1b-a597-af97970eef4a",
   "metadata": {},
   "outputs": [],
   "source": [
    "a = ['~10분', '~20분', '~30분', '~40분', '~50분', '~60분', '~120분', '~180분', '그외'] # 10분단위 x축 나타내기"
   ]
  },
  {
   "cell_type": "code",
   "execution_count": 61,
   "id": "b5cf1052-5107-4162-9cba-dbf0eee91908",
   "metadata": {},
   "outputs": [
    {
     "data": {
      "image/png": "[encoded data removed]",
      "text/plain": [
       "<Figure size 432x288 with 1 Axes>"
      ]
     },
     "metadata": {
      "needs_background": "light"
     },
     "output_type": "display_data"
    }
   ],
   "source": [
    "#그래프 시각화\n",
    "plt.rcParams['font.family'] = 'Malgun Gothic'\n",
    "plt.xlabel('탑승지속시간')\n",
    "plt.ylabel('이용건수')\n",
    "plt.bar(a, b, width=0.5)\n",
    "for i,v in enumerate(a) :\n",
    "    plt.text(v, b[i], b[i],\n",
    "            fontsize =9,\n",
    "             color = 'black',\n",
    "             horizontalalignment='center',\n",
    "              verticalalignment='bottom'\n",
    "            )\n",
    "\n",
    "plt.show()"
   ]
  },
  {
   "cell_type": "markdown",
   "id": "91a0371b-83e7-409c-828a-f2aeb492baaa",
   "metadata": {},
   "source": [
    "-------"
   ]
  },
  {
   "cell_type": "markdown",
   "id": "db4354f4-44b1-4c5a-a840-5971de2edd4e",
   "metadata": {},
   "source": [
    "# 시간대별 현황"
   ]
  },
  {
   "cell_type": "code",
   "execution_count": 80,
   "id": "1234b77d-ef31-45cd-b8bb-abb3251b854b",
   "metadata": {},
   "outputs": [
    {
     "data": {
      "text/plain": [
       "list"
      ]
     },
     "execution_count": 80,
     "metadata": {},
     "output_type": "execute_result"
    }
   ],
   "source": [
    "time=[]\n",
    "for x in range(0, len(df)):\n",
    "    time.append(df['출발시각'][x])\n",
    "type(time)"
   ]
  },
  {
   "cell_type": "code",
   "execution_count": 81,
   "id": "a881a424-26fa-4f26-9adb-5121344bba4f",
   "metadata": {},
   "outputs": [],
   "source": [
    "time1 = []\n",
    "for i in range(0, len(df)):\n",
    "    if time[i][12] == ':':\n",
    "        time1.append(time[i][11])\n",
    "    else:\n",
    "        time1.append(time[i][11:13])"
   ]
  },
  {
   "cell_type": "code",
   "execution_count": 82,
   "id": "cae5723c-29fa-4649-b250-17fcef230ea1",
   "metadata": {},
   "outputs": [],
   "source": [
    "time1_list = [int (i) for i in time1]"
   ]
  },
  {
   "cell_type": "code",
   "execution_count": 83,
   "id": "93e58fef-9c9f-4432-8363-bce8dc89bd67",
   "metadata": {},
   "outputs": [],
   "source": [
    "time1_list.sort()"
   ]
  },
  {
   "cell_type": "code",
   "execution_count": 84,
   "id": "5da38d11-f5ac-42d3-bb4d-1a555f8553cb",
   "metadata": {},
   "outputs": [
    {
     "name": "stdout",
     "output_type": "stream",
     "text": [
      "{7: 159, 8: 520, 9: 458, 10: 380, 11: 525, 12: 593, 13: 672, 14: 881, 15: 972, 16: 1075, 17: 1140, 18: 1263, 19: 1098, 20: 1118, 21: 10, 23: 1}\n"
     ]
    }
   ],
   "source": [
    "dict2 = {}\n",
    "for v in time1_list:\n",
    "    if dict2.get(v): dict2[v]+=1\n",
    "    else : dict2[v]=1\n",
    "        \n",
    "print(dict2)"
   ]
  },
  {
   "cell_type": "code",
   "execution_count": 67,
   "id": "47273ddb-0b57-4d0e-a2db-c0ddaabc5017",
   "metadata": {},
   "outputs": [],
   "source": [
    "a = (list(dict2.keys()))\n",
    "b = (list(dict2.values()))\n",
    "a_str = list(map(str,a))"
   ]
  },
  {
   "cell_type": "code",
   "execution_count": 70,
   "id": "a3c1357a-dccf-4438-89a4-d3fc36813867",
   "metadata": {},
   "outputs": [
    {
     "data": {
      "image/png": "[encoded data removed]",
      "text/plain": [
       "<Figure size 432x288 with 1 Axes>"
      ]
     },
     "metadata": {
      "needs_background": "light"
     },
     "output_type": "display_data"
    }
   ],
   "source": [
    "plt.rcParams['font.family'] = 'Malgun Gothic'\n",
    "plt.xlabel('시간')\n",
    "plt.ylabel('이용건수')\n",
    "plt.bar(a_str, b, width=0.7) #시간별 이용건수\n",
    "for i,v in enumerate(a) :\n",
    "    plt.text(v, b[i], b[i],\n",
    "            fontsize =9,\n",
    "             color = 'black',\n",
    "             horizontalalignment='center',\n",
    "              verticalalignment='bottom'\n",
    "            )\n",
    "\n",
    "plt.show()"
   ]
  },
  {
   "cell_type": "code",
   "execution_count": null,
   "id": "05aed933-2d4e-4807-a009-4439954d0a91",
   "metadata": {},
   "outputs": [],
   "source": []
  },
  {
   "cell_type": "code",
   "execution_count": null,
   "id": "254959ce-1c84-45a6-94c5-0af309c6ff9a",
   "metadata": {},
   "outputs": [],
   "source": []
  }
 ],
 "metadata": {
  "kernelspec": {
   "display_name": "Python 3",
   "language": "python",
   "name": "python3"
  },
  "language_info": {
   "codemirror_mode": {
    "name": "ipython",
    "version": 3
   },
   "file_extension": ".py",
   "mimetype": "text/x-python",
   "name": "python",
   "nbconvert_exporter": "python",
   "pygments_lexer": "ipython3",
   "version": "3.8.8"
  }
 },
 "nbformat": 4,
 "nbformat_minor": 5
}
