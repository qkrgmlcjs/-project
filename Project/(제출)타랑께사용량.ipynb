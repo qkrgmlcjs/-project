{
 "cells": [
  {
   "cell_type": "code",
   "execution_count": 2,
   "id": "39b2f8de-aac6-4630-b9ae-9bb488dc9d39",
   "metadata": {},
   "outputs": [],
   "source": [
    "#타랑께 사용량\n",
    "import pandas as pd\n",
    "#타랑께 사용량 데이터 불러오기\n",
    "자전거 = pd.read_csv('(제출)타랑께_최종.csv',index_col = 0)\n",
    "#출발시각,도착시각 추출\n",
    "내자전거 = 자전거.loc[:, ['출발시각', '도착시각']]\n"
   ]
  },
  {
   "cell_type": "code",
   "execution_count": 5,
   "id": "3512f4c1-bb60-47e7-9dd1-8af24f5d4e87",
   "metadata": {},
   "outputs": [
    {
     "data": {
      "text/plain": [
       "자전거ID\n",
       "GJA-0141    20200701082504\n",
       "GJA-0073    20200701112145\n",
       "GJA-0169    20200701113432\n",
       "GJA-0183    20200701114006\n",
       "GJA-0166    20200701124544\n",
       "                 ...      \n",
       "GJA-0115    20210205135943\n",
       "GJA-0050    20210205141152\n",
       "GJA-0089    20210205141641\n",
       "GJA-0035    20210205145055\n",
       "GJA-0063    20210205151252\n",
       "Name: 출발시각, Length: 10865, dtype: int64"
      ]
     },
     "execution_count": 5,
     "metadata": {},
     "output_type": "execute_result"
    }
   ],
   "source": [
    "자전거_출발 = 내자전거['출발시각']\n",
    "자전거_출발"
   ]
  },
  {
   "cell_type": "code",
   "execution_count": 6,
   "id": "6adaa044-8b2f-4683-b8a9-c81ae579aec9",
   "metadata": {},
   "outputs": [
    {
     "data": {
      "text/plain": [
       "자전거ID\n",
       "GJA-0141    20200701083128\n",
       "GJA-0073    20200701122435\n",
       "GJA-0169    20200701114431\n",
       "GJA-0183    20200701115905\n",
       "GJA-0166    20200701125442\n",
       "                 ...      \n",
       "GJA-0115    20210205140711\n",
       "GJA-0050    20210205142957\n",
       "GJA-0089    20210205153052\n",
       "GJA-0035    20210205184054\n",
       "GJA-0063    20210205161137\n",
       "Name: 도착시각, Length: 10865, dtype: int64"
      ]
     },
     "execution_count": 6,
     "metadata": {},
     "output_type": "execute_result"
    }
   ],
   "source": [
    "자전거_도착 = 내자전거['도착시각']\n",
    "자전거_도착"
   ]
  },
  {
   "cell_type": "code",
   "execution_count": 7,
   "id": "7dd702f8-f19b-49e5-853a-46594f19aafc",
   "metadata": {},
   "outputs": [],
   "source": [
    "자전거_출발 =자전거_출발.astype('str')\n",
    "자전거_도착 =자전거_도착.astype('str')"
   ]
  },
  {
   "cell_type": "code",
   "execution_count": 9,
   "id": "d73b37f3-a556-43ac-9d50-53a590d02bfd",
   "metadata": {},
   "outputs": [],
   "source": [
    "from datetime import date,datetime,time\n",
    "df_list=[]\n",
    "for i in 자전거_출발 : # 출발시각 Str형식 Date형식 으로 변환\n",
    "    date = i\n",
    "    c_date = datetime.strptime(date,\"%Y%m%d%H%M%S\")\n",
    "    c_date=c_date.strftime('%Y-%m-%d %H:%M:%S')\n",
    "    df_list.append(c_date)"
   ]
  },
  {
   "cell_type": "code",
   "execution_count": 10,
   "id": "0febfac4-7ccb-408a-a897-85134bb189a2",
   "metadata": {},
   "outputs": [],
   "source": [
    "df_list_3=[]\n",
    "for a in 자전거_도착 :#도착시각 Str형식 Date형식 으로 변환\n",
    "    date_a = a\n",
    "    c_date = datetime.strptime(date_a,\"%Y%m%d%H%M%S\")\n",
    "    c_date=c_date.strftime('%Y-%m-%d %H:%M:%S')\n",
    "    df_list_3.append(c_date)"
   ]
  },
  {
   "cell_type": "code",
   "execution_count": 11,
   "id": "a5146a6d-e28b-478f-8053-de417c4bc525",
   "metadata": {},
   "outputs": [],
   "source": [
    "df_출발 = pd.DataFrame(df_list)\n",
    "df_도착 = pd.DataFrame(df_list_3)\n",
    "자전거_시간 = pd.concat([df_출발,df_도착],axis=1)\n",
    "자전거_시간.columns = ['출발시각','도착시각']"
   ]
  },
  {
   "cell_type": "code",
   "execution_count": 12,
   "id": "1cb7d613-f3ab-407a-bdb3-1e4d56a3d112",
   "metadata": {},
   "outputs": [],
   "source": [
    "자전거_시간['출발시각'] = pd.to_datetime(자전거_시간['출발시각'])\n",
    "자전거_시간['도착시각'] = pd.to_datetime(자전거_시간['도착시각']) #데이트타임형식으로 변경"
   ]
  },
  {
   "cell_type": "code",
   "execution_count": 13,
   "id": "cbf9a6e4-2bd6-444d-8734-197f0abf0030",
   "metadata": {},
   "outputs": [
    {
     "data": {
      "text/html": [
       "<div>\n",
       "<style scoped>\n",
       "    .dataframe tbody tr th:only-of-type {\n",
       "        vertical-align: middle;\n",
       "    }\n",
       "\n",
       "    .dataframe tbody tr th {\n",
       "        vertical-align: top;\n",
       "    }\n",
       "\n",
       "    .dataframe thead th {\n",
       "        text-align: right;\n",
       "    }\n",
       "</style>\n",
       "<table border=\"1\" class=\"dataframe\">\n",
       "  <thead>\n",
       "    <tr style=\"text-align: right;\">\n",
       "      <th></th>\n",
       "      <th>출발시각</th>\n",
       "      <th>도착시각</th>\n",
       "    </tr>\n",
       "  </thead>\n",
       "  <tbody>\n",
       "    <tr>\n",
       "      <th>0</th>\n",
       "      <td>2020-07-01 08:25:04</td>\n",
       "      <td>2020-07-01 08:31:28</td>\n",
       "    </tr>\n",
       "    <tr>\n",
       "      <th>1</th>\n",
       "      <td>2020-07-01 11:21:45</td>\n",
       "      <td>2020-07-01 12:24:35</td>\n",
       "    </tr>\n",
       "    <tr>\n",
       "      <th>2</th>\n",
       "      <td>2020-07-01 11:34:32</td>\n",
       "      <td>2020-07-01 11:44:31</td>\n",
       "    </tr>\n",
       "    <tr>\n",
       "      <th>3</th>\n",
       "      <td>2020-07-01 11:40:06</td>\n",
       "      <td>2020-07-01 11:59:05</td>\n",
       "    </tr>\n",
       "    <tr>\n",
       "      <th>4</th>\n",
       "      <td>2020-07-01 12:45:44</td>\n",
       "      <td>2020-07-01 12:54:42</td>\n",
       "    </tr>\n",
       "    <tr>\n",
       "      <th>...</th>\n",
       "      <td>...</td>\n",
       "      <td>...</td>\n",
       "    </tr>\n",
       "    <tr>\n",
       "      <th>10860</th>\n",
       "      <td>2021-02-05 13:59:43</td>\n",
       "      <td>2021-02-05 14:07:11</td>\n",
       "    </tr>\n",
       "    <tr>\n",
       "      <th>10861</th>\n",
       "      <td>2021-02-05 14:11:52</td>\n",
       "      <td>2021-02-05 14:29:57</td>\n",
       "    </tr>\n",
       "    <tr>\n",
       "      <th>10862</th>\n",
       "      <td>2021-02-05 14:16:41</td>\n",
       "      <td>2021-02-05 15:30:52</td>\n",
       "    </tr>\n",
       "    <tr>\n",
       "      <th>10863</th>\n",
       "      <td>2021-02-05 14:50:55</td>\n",
       "      <td>2021-02-05 18:40:54</td>\n",
       "    </tr>\n",
       "    <tr>\n",
       "      <th>10864</th>\n",
       "      <td>2021-02-05 15:12:52</td>\n",
       "      <td>2021-02-05 16:11:37</td>\n",
       "    </tr>\n",
       "  </tbody>\n",
       "</table>\n",
       "<p>10865 rows × 2 columns</p>\n",
       "</div>"
      ],
      "text/plain": [
       "                     출발시각                도착시각\n",
       "0     2020-07-01 08:25:04 2020-07-01 08:31:28\n",
       "1     2020-07-01 11:21:45 2020-07-01 12:24:35\n",
       "2     2020-07-01 11:34:32 2020-07-01 11:44:31\n",
       "3     2020-07-01 11:40:06 2020-07-01 11:59:05\n",
       "4     2020-07-01 12:45:44 2020-07-01 12:54:42\n",
       "...                   ...                 ...\n",
       "10860 2021-02-05 13:59:43 2021-02-05 14:07:11\n",
       "10861 2021-02-05 14:11:52 2021-02-05 14:29:57\n",
       "10862 2021-02-05 14:16:41 2021-02-05 15:30:52\n",
       "10863 2021-02-05 14:50:55 2021-02-05 18:40:54\n",
       "10864 2021-02-05 15:12:52 2021-02-05 16:11:37\n",
       "\n",
       "[10865 rows x 2 columns]"
      ]
     },
     "execution_count": 13,
     "metadata": {},
     "output_type": "execute_result"
    }
   ],
   "source": [
    "자전거_시간"
   ]
  },
  {
   "cell_type": "code",
   "execution_count": 10,
   "id": "68dec78c-91c7-4997-aa5d-67e317390f2b",
   "metadata": {},
   "outputs": [],
   "source": [
    "자전거_시간= 자전거_시간.transpose()\n",
    "자전거_시간.loc['사용시간'] = 자전거_시간.loc['도착시각']- 자전거_시간.loc['출발시각'] #사용시간 계산 및 칼럼 생성"
   ]
  },
  {
   "cell_type": "code",
   "execution_count": 11,
   "id": "c4c52034-8696-4ccc-baa7-a7743b12addb",
   "metadata": {},
   "outputs": [],
   "source": [
    "자전거_시간 = 자전거_시간.T"
   ]
  },
  {
   "cell_type": "code",
   "execution_count": 12,
   "id": "e3f53777-1065-417c-b547-4bc1a8af588c",
   "metadata": {},
   "outputs": [
    {
     "data": {
      "text/html": [
       "<div>\n",
       "<style scoped>\n",
       "    .dataframe tbody tr th:only-of-type {\n",
       "        vertical-align: middle;\n",
       "    }\n",
       "\n",
       "    .dataframe tbody tr th {\n",
       "        vertical-align: top;\n",
       "    }\n",
       "\n",
       "    .dataframe thead th {\n",
       "        text-align: right;\n",
       "    }\n",
       "</style>\n",
       "<table border=\"1\" class=\"dataframe\">\n",
       "  <thead>\n",
       "    <tr style=\"text-align: right;\">\n",
       "      <th></th>\n",
       "      <th>출발시각</th>\n",
       "      <th>도착시각</th>\n",
       "      <th>사용시간</th>\n",
       "    </tr>\n",
       "  </thead>\n",
       "  <tbody>\n",
       "    <tr>\n",
       "      <th>0</th>\n",
       "      <td>2020-07-01 08:25:04</td>\n",
       "      <td>2020-07-01 08:31:28</td>\n",
       "      <td>0 days 00:06:24</td>\n",
       "    </tr>\n",
       "    <tr>\n",
       "      <th>1</th>\n",
       "      <td>2020-07-01 11:21:45</td>\n",
       "      <td>2020-07-01 12:24:35</td>\n",
       "      <td>0 days 01:02:50</td>\n",
       "    </tr>\n",
       "    <tr>\n",
       "      <th>2</th>\n",
       "      <td>2020-07-01 11:34:32</td>\n",
       "      <td>2020-07-01 11:44:31</td>\n",
       "      <td>0 days 00:09:59</td>\n",
       "    </tr>\n",
       "    <tr>\n",
       "      <th>3</th>\n",
       "      <td>2020-07-01 11:40:06</td>\n",
       "      <td>2020-07-01 11:59:05</td>\n",
       "      <td>0 days 00:18:59</td>\n",
       "    </tr>\n",
       "    <tr>\n",
       "      <th>4</th>\n",
       "      <td>2020-07-01 12:45:44</td>\n",
       "      <td>2020-07-01 12:54:42</td>\n",
       "      <td>0 days 00:08:58</td>\n",
       "    </tr>\n",
       "    <tr>\n",
       "      <th>...</th>\n",
       "      <td>...</td>\n",
       "      <td>...</td>\n",
       "      <td>...</td>\n",
       "    </tr>\n",
       "    <tr>\n",
       "      <th>10860</th>\n",
       "      <td>2021-02-05 13:59:43</td>\n",
       "      <td>2021-02-05 14:07:11</td>\n",
       "      <td>0 days 00:07:28</td>\n",
       "    </tr>\n",
       "    <tr>\n",
       "      <th>10861</th>\n",
       "      <td>2021-02-05 14:11:52</td>\n",
       "      <td>2021-02-05 14:29:57</td>\n",
       "      <td>0 days 00:18:05</td>\n",
       "    </tr>\n",
       "    <tr>\n",
       "      <th>10862</th>\n",
       "      <td>2021-02-05 14:16:41</td>\n",
       "      <td>2021-02-05 15:30:52</td>\n",
       "      <td>0 days 01:14:11</td>\n",
       "    </tr>\n",
       "    <tr>\n",
       "      <th>10863</th>\n",
       "      <td>2021-02-05 14:50:55</td>\n",
       "      <td>2021-02-05 18:40:54</td>\n",
       "      <td>0 days 03:49:59</td>\n",
       "    </tr>\n",
       "    <tr>\n",
       "      <th>10864</th>\n",
       "      <td>2021-02-05 15:12:52</td>\n",
       "      <td>2021-02-05 16:11:37</td>\n",
       "      <td>0 days 00:58:45</td>\n",
       "    </tr>\n",
       "  </tbody>\n",
       "</table>\n",
       "<p>10865 rows × 3 columns</p>\n",
       "</div>"
      ],
      "text/plain": [
       "                     출발시각                도착시각            사용시간\n",
       "0     2020-07-01 08:25:04 2020-07-01 08:31:28 0 days 00:06:24\n",
       "1     2020-07-01 11:21:45 2020-07-01 12:24:35 0 days 01:02:50\n",
       "2     2020-07-01 11:34:32 2020-07-01 11:44:31 0 days 00:09:59\n",
       "3     2020-07-01 11:40:06 2020-07-01 11:59:05 0 days 00:18:59\n",
       "4     2020-07-01 12:45:44 2020-07-01 12:54:42 0 days 00:08:58\n",
       "...                   ...                 ...             ...\n",
       "10860 2021-02-05 13:59:43 2021-02-05 14:07:11 0 days 00:07:28\n",
       "10861 2021-02-05 14:11:52 2021-02-05 14:29:57 0 days 00:18:05\n",
       "10862 2021-02-05 14:16:41 2021-02-05 15:30:52 0 days 01:14:11\n",
       "10863 2021-02-05 14:50:55 2021-02-05 18:40:54 0 days 03:49:59\n",
       "10864 2021-02-05 15:12:52 2021-02-05 16:11:37 0 days 00:58:45\n",
       "\n",
       "[10865 rows x 3 columns]"
      ]
     },
     "execution_count": 12,
     "metadata": {},
     "output_type": "execute_result"
    }
   ],
   "source": [
    "자전거_시간"
   ]
  },
  {
   "cell_type": "code",
   "execution_count": null,
   "id": "55e42add-37a3-417c-8cdb-c5de8ad33e8c",
   "metadata": {},
   "outputs": [],
   "source": []
  }
 ],
 "metadata": {
  "kernelspec": {
   "display_name": "Python 3",
   "language": "python",
   "name": "python3"
  },
  "language_info": {
   "codemirror_mode": {
    "name": "ipython",
    "version": 3
   },
   "file_extension": ".py",
   "mimetype": "text/x-python",
   "name": "python",
   "nbconvert_exporter": "python",
   "pygments_lexer": "ipython3",
   "version": "3.8.8"
  }
 },
 "nbformat": 4,
 "nbformat_minor": 5
}
