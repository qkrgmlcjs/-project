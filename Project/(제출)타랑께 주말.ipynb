{
 "cells": [
  {
   "cell_type": "code",
   "execution_count": 1,
   "id": "1c2bd17f-b10a-4335-bd88-401dc9837b00",
   "metadata": {},
   "outputs": [
    {
     "data": {
      "text/html": [
       "<div>\n",
       "<style scoped>\n",
       "    .dataframe tbody tr th:only-of-type {\n",
       "        vertical-align: middle;\n",
       "    }\n",
       "\n",
       "    .dataframe tbody tr th {\n",
       "        vertical-align: top;\n",
       "    }\n",
       "\n",
       "    .dataframe thead th {\n",
       "        text-align: right;\n",
       "    }\n",
       "</style>\n",
       "<table border=\"1\" class=\"dataframe\">\n",
       "  <thead>\n",
       "    <tr style=\"text-align: right;\">\n",
       "      <th></th>\n",
       "      <th>출발시각</th>\n",
       "      <th>사용시간</th>\n",
       "    </tr>\n",
       "  </thead>\n",
       "  <tbody>\n",
       "    <tr>\n",
       "      <th>1</th>\n",
       "      <td>2020-07-04 7:01</td>\n",
       "      <td>0 days 00:14:38</td>\n",
       "    </tr>\n",
       "    <tr>\n",
       "      <th>2</th>\n",
       "      <td>2020-07-04 7:02</td>\n",
       "      <td>0 days 00:12:40</td>\n",
       "    </tr>\n",
       "    <tr>\n",
       "      <th>3</th>\n",
       "      <td>2020-07-04 8:30</td>\n",
       "      <td>0 days 00:06:02</td>\n",
       "    </tr>\n",
       "    <tr>\n",
       "      <th>4</th>\n",
       "      <td>2020-07-04 9:07</td>\n",
       "      <td>0 days 02:08:58</td>\n",
       "    </tr>\n",
       "    <tr>\n",
       "      <th>5</th>\n",
       "      <td>2020-07-04 9:17</td>\n",
       "      <td>0 days 00:23:25</td>\n",
       "    </tr>\n",
       "    <tr>\n",
       "      <th>...</th>\n",
       "      <td>...</td>\n",
       "      <td>...</td>\n",
       "    </tr>\n",
       "    <tr>\n",
       "      <th>3372</th>\n",
       "      <td>2021-01-31 19:47</td>\n",
       "      <td>0 days 01:50:53</td>\n",
       "    </tr>\n",
       "    <tr>\n",
       "      <th>3373</th>\n",
       "      <td>2021-01-31 20:20</td>\n",
       "      <td>0 days 01:00:47</td>\n",
       "    </tr>\n",
       "    <tr>\n",
       "      <th>3374</th>\n",
       "      <td>2021-01-31 20:20</td>\n",
       "      <td>0 days 00:24:51</td>\n",
       "    </tr>\n",
       "    <tr>\n",
       "      <th>3375</th>\n",
       "      <td>2021-01-31 20:21</td>\n",
       "      <td>0 days 00:24:41</td>\n",
       "    </tr>\n",
       "    <tr>\n",
       "      <th>3376</th>\n",
       "      <td>2021-01-31 20:57</td>\n",
       "      <td>0 days 02:21:58</td>\n",
       "    </tr>\n",
       "  </tbody>\n",
       "</table>\n",
       "<p>3376 rows × 2 columns</p>\n",
       "</div>"
      ],
      "text/plain": [
       "                  출발시각             사용시간\n",
       "1      2020-07-04 7:01  0 days 00:14:38\n",
       "2      2020-07-04 7:02  0 days 00:12:40\n",
       "3      2020-07-04 8:30  0 days 00:06:02\n",
       "4      2020-07-04 9:07  0 days 02:08:58\n",
       "5      2020-07-04 9:17  0 days 00:23:25\n",
       "...                ...              ...\n",
       "3372  2021-01-31 19:47  0 days 01:50:53\n",
       "3373  2021-01-31 20:20  0 days 01:00:47\n",
       "3374  2021-01-31 20:20  0 days 00:24:51\n",
       "3375  2021-01-31 20:21  0 days 00:24:41\n",
       "3376  2021-01-31 20:57  0 days 02:21:58\n",
       "\n",
       "[3376 rows x 2 columns]"
      ]
     },
     "execution_count": 1,
     "metadata": {},
     "output_type": "execute_result"
    }
   ],
   "source": [
    "#타랑께 주말\n",
    "import pandas as pd\n",
    "import numpy as np\n",
    "import matplotlib.pyplot as plt  \n",
    "a = pd.read_csv('주말_최종.csv',index_col = 0,encoding = 'utf-8')#주말 사용 건 추출\n",
    "df = pd.DataFrame(a) #사용량중 주말건 추출\n",
    "df"
   ]
  },
  {
   "cell_type": "markdown",
   "id": "c81a6640-f783-4b09-8324-bd6a40b93761",
   "metadata": {},
   "source": [
    "--------"
   ]
  },
  {
   "cell_type": "markdown",
   "id": "92fea8c2-ac9d-4fae-92b7-3b76fb6b98b2",
   "metadata": {},
   "source": [
    "# 탑승지속시간"
   ]
  },
  {
   "cell_type": "code",
   "execution_count": 34,
   "id": "1c08e5ab-b5b1-4fc7-9f72-205b73b049f6",
   "metadata": {},
   "outputs": [],
   "source": [
    "usage=[]\n",
    "for x in range(1, len(df)):\n",
    "    usage.append(df['사용시간'][x]) # 주말 사용시간 추출"
   ]
  },
  {
   "cell_type": "markdown",
   "id": "d4817d53-fcbf-46e8-9f5c-e588750c32aa",
   "metadata": {},
   "source": [
    "## hour"
   ]
  },
  {
   "cell_type": "code",
   "execution_count": 3,
   "id": "219ca740-4ecf-45cc-a6de-b481c3c6af72",
   "metadata": {},
   "outputs": [],
   "source": [
    "hour = []\n",
    "minute = [] #시, 분 분리 추출\n",
    "for i in range(0, len(usage)):\n",
    "    if usage[i][8] == '0':\n",
    "        minute.append(usage[i][10:12])\n",
    "    elif usage[i][8] != '0' :\n",
    "        hour.append(usage[i][8])"
   ]
  },
  {
   "cell_type": "code",
   "execution_count": 4,
   "id": "9e16338f-9846-4cda-866f-7210b0fe74f2",
   "metadata": {},
   "outputs": [],
   "source": [
    "hour_int = list(map(int, hour))\n",
    "remove_set = {4, 5, 6, 7, 8, 9}\n",
    "hour_new = [i for i in hour_int if i not in remove_set]"
   ]
  },
  {
   "cell_type": "code",
   "execution_count": 5,
   "id": "9009bb08-3225-457b-86d5-8f86ec98e7ec",
   "metadata": {},
   "outputs": [
    {
     "name": "stdout",
     "output_type": "stream",
     "text": [
      "{2: 86, 1: 1068, 3: 37}\n"
     ]
    }
   ],
   "source": [
    "dict = {}\n",
    "for v in hour_new:\n",
    "    if dict.get(v): dict[v]+=1\n",
    "    else : dict[v]=1\n",
    "        \n",
    "print(dict)"
   ]
  },
  {
   "cell_type": "code",
   "execution_count": 6,
   "id": "15ae4230-8981-4040-b12f-c26ce14ff514",
   "metadata": {},
   "outputs": [],
   "source": [
    "hour = [60, 120, 180]\n",
    "hour_count = (list(dict.values()))"
   ]
  },
  {
   "cell_type": "markdown",
   "id": "8c5bf8d3-d48a-41ae-84af-461b3da01eec",
   "metadata": {},
   "source": [
    "## minute"
   ]
  },
  {
   "cell_type": "code",
   "execution_count": 7,
   "id": "e603fac5-c735-43b6-b8c3-6bbd5aa54015",
   "metadata": {},
   "outputs": [],
   "source": [
    "minute.sort()"
   ]
  },
  {
   "cell_type": "code",
   "execution_count": 8,
   "id": "4198e169-0ecf-4eff-97de-f04deaa276c0",
   "metadata": {},
   "outputs": [],
   "source": [
    "dict1 = {}\n",
    "for v in minute:\n",
    "    if dict1.get(v): dict1[v]+=1\n",
    "    else : dict1[v]=1"
   ]
  },
  {
   "cell_type": "code",
   "execution_count": 9,
   "id": "1242a6cf-7d38-4b6d-97e0-374381880ee1",
   "metadata": {},
   "outputs": [],
   "source": [
    "x = (list(dict1.keys()))\n",
    "y = (list(dict1.values()))\n",
    "x = list(map(int, x))"
   ]
  },
  {
   "cell_type": "code",
   "execution_count": 10,
   "id": "b2130e92-bf0c-44f7-a348-7247fa729212",
   "metadata": {},
   "outputs": [],
   "source": [
    "minute_by_10 = []\n",
    "division = [10, 20, 30, 40, 50, 60] #10분단위 분 추출\n",
    "for i in division:\n",
    "    q = sum(y[i-10:i])\n",
    "    minute_by_10.append(q)"
   ]
  },
  {
   "cell_type": "markdown",
   "id": "4a149fd4-1084-44ec-814d-6a9f87ef87b2",
   "metadata": {},
   "source": [
    "## hour + minute"
   ]
  },
  {
   "cell_type": "code",
   "execution_count": 30,
   "id": "54851fa5-1487-4e04-8d6c-9d105108bc9f",
   "metadata": {},
   "outputs": [],
   "source": [
    "a = division + hour\n",
    "b = minute_by_10 + hour_count"
   ]
  },
  {
   "cell_type": "code",
   "execution_count": 31,
   "id": "3c1d4b15-3488-49ee-b63d-7a31479e43ad",
   "metadata": {},
   "outputs": [],
   "source": [
    "a = ['~10분', '~20분', '~30분', '~40분', '~50분', '~60분', '~120분', '~180분', '그외']"
   ]
  },
  {
   "cell_type": "code",
   "execution_count": 33,
   "id": "1c98cee1-eb92-4d97-8bc9-09c2ae26ef00",
   "metadata": {},
   "outputs": [
    {
     "data": {
      "image/png": "[encoded data removed]",
      "text/plain": [
       "<Figure size 432x288 with 1 Axes>"
      ]
     },
     "metadata": {
      "needs_background": "light"
     },
     "output_type": "display_data"
    }
   ],
   "source": [
    "plt.rcParams['font.family'] = 'Malgun Gothic'\n",
    "plt.xlabel('탑승지속시간')\n",
    "plt.ylabel('이용건수')\n",
    "plt.bar(a, b, width=0.5)\n",
    " # 시각화\n",
    "for i,v in enumerate(a) :\n",
    "    plt.text(v, b[i], b[i],\n",
    "            fontsize =9,\n",
    "             color = 'black',\n",
    "             horizontalalignment='center',\n",
    "              verticalalignment='bottom'\n",
    "            )\n",
    "\n",
    "\n",
    "\n",
    "\n",
    "plt.show()"
   ]
  },
  {
   "cell_type": "markdown",
   "id": "a01876a8-2079-4bf1-b2a9-a9816fe95739",
   "metadata": {},
   "source": [
    "# 시간대별 현황"
   ]
  },
  {
   "cell_type": "code",
   "execution_count": 14,
   "id": "fba78c87-b8ff-474a-bf17-283153d4f4cc",
   "metadata": {},
   "outputs": [
    {
     "data": {
      "text/plain": [
       "'2020-07-04 7:01'"
      ]
     },
     "execution_count": 14,
     "metadata": {},
     "output_type": "execute_result"
    }
   ],
   "source": [
    "df['출발시각'][1]"
   ]
  },
  {
   "cell_type": "code",
   "execution_count": 15,
   "id": "fe313cd0-31d2-428c-99cd-61579c77fcec",
   "metadata": {},
   "outputs": [],
   "source": [
    "start=[]\n",
    "for x in range(1, len(df)):\n",
    "    start.append(df['출발시각'][x])"
   ]
  },
  {
   "cell_type": "code",
   "execution_count": 16,
   "id": "69c980dd-297e-4006-b725-af6c63d40f2e",
   "metadata": {},
   "outputs": [],
   "source": [
    "time1 = []\n",
    "for i in range(0, len(start)):\n",
    "    if start[i][12] == ':':\n",
    "        time1.append(start[i][11])\n",
    "    else:\n",
    "        time1.append(start[i][11:13])"
   ]
  },
  {
   "cell_type": "code",
   "execution_count": 17,
   "id": "5171be79-d3fb-4f78-9e90-ff8d3fffe16e",
   "metadata": {},
   "outputs": [],
   "source": [
    "time1_list = [int (i) for i in time1]"
   ]
  },
  {
   "cell_type": "code",
   "execution_count": 18,
   "id": "88fce9fb-2842-4bb4-a245-16148dbfbbdf",
   "metadata": {},
   "outputs": [],
   "source": [
    "time1_list.sort()"
   ]
  },
  {
   "cell_type": "code",
   "execution_count": 19,
   "id": "03d6c133-e93c-460c-909d-0ce9bbfc49a9",
   "metadata": {},
   "outputs": [
    {
     "name": "stdout",
     "output_type": "stream",
     "text": [
      "{7: 45, 8: 38, 9: 78, 10: 118, 11: 149, 12: 199, 13: 249, 14: 337, 15: 399, 16: 439, 17: 378, 18: 286, 19: 312, 20: 344, 21: 3, 23: 1}\n"
     ]
    }
   ],
   "source": [
    "dict2 = {}\n",
    "for v in time1_list:\n",
    "    if dict2.get(v): dict2[v]+=1\n",
    "    else : dict2[v]=1\n",
    "        \n",
    "print(dict2)"
   ]
  },
  {
   "cell_type": "code",
   "execution_count": 20,
   "id": "95b7ed5a-6d65-41cf-9090-72c5637089f2",
   "metadata": {},
   "outputs": [],
   "source": [
    "a = (list(dict2.keys()))\n",
    "b = (list(dict2.values()))"
   ]
  },
  {
   "cell_type": "code",
   "execution_count": 22,
   "id": "794cd1b8-6bee-4219-9e11-b29cee082707",
   "metadata": {},
   "outputs": [
    {
     "data": {
      "image/png": "[encoded data removed]",
      "text/plain": [
       "<Figure size 432x288 with 1 Axes>"
      ]
     },
     "metadata": {
      "needs_background": "light"
     },
     "output_type": "display_data"
    }
   ],
   "source": [
    "plt.rcParams['font.family'] = 'Malgun Gothic'\n",
    "plt.xlabel('탑승시각')\n",
    "plt.ylabel('이용건수')\n",
    "plt.xticks(range(min(a),max(a)-1,1))\n",
    "plt.ylim([0, 600])\n",
    "plt.bar(a, b, width=0.7)\n",
    "\n",
    "for i,v in enumerate(a) :\n",
    "    plt.text(v, b[i], b[i],\n",
    "            fontsize =9,\n",
    "             color = 'black',\n",
    "             horizontalalignment='center',\n",
    "              verticalalignment='bottom'\n",
    "            )\n",
    "\n",
    "plt.show()"
   ]
  },
  {
   "cell_type": "markdown",
   "id": "cae858e7-4289-45b6-aa27-f298e2002bd5",
   "metadata": {},
   "source": [
    "---------"
   ]
  },
  {
   "cell_type": "code",
   "execution_count": null,
   "id": "e070a701-5a7b-426b-8f4e-d8b978a1b435",
   "metadata": {},
   "outputs": [],
   "source": []
  }
 ],
 "metadata": {
  "kernelspec": {
   "display_name": "Python 3",
   "language": "python",
   "name": "python3"
  },
  "language_info": {
   "codemirror_mode": {
    "name": "ipython",
    "version": 3
   },
   "file_extension": ".py",
   "mimetype": "text/x-python",
   "name": "python",
   "nbconvert_exporter": "python",
   "pygments_lexer": "ipython3",
   "version": "3.8.8"
  }
 },
 "nbformat": 4,
 "nbformat_minor": 5
}
