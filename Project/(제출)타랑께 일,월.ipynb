{
 "cells": [
  {
   "cell_type": "code",
   "execution_count": 26,
   "id": "bafbc1ee-537f-4496-9817-d1cd3744e537",
   "metadata": {},
   "outputs": [
    {
     "data": {
      "text/html": [
       "<div>\n",
       "<style scoped>\n",
       "    .dataframe tbody tr th:only-of-type {\n",
       "        vertical-align: middle;\n",
       "    }\n",
       "\n",
       "    .dataframe tbody tr th {\n",
       "        vertical-align: top;\n",
       "    }\n",
       "\n",
       "    .dataframe thead th {\n",
       "        text-align: right;\n",
       "    }\n",
       "</style>\n",
       "<table border=\"1\" class=\"dataframe\">\n",
       "  <thead>\n",
       "    <tr style=\"text-align: right;\">\n",
       "      <th></th>\n",
       "      <th>출발시각</th>\n",
       "      <th>도착시각</th>\n",
       "      <th>사용시간</th>\n",
       "    </tr>\n",
       "  </thead>\n",
       "  <tbody>\n",
       "    <tr>\n",
       "      <th>0</th>\n",
       "      <td>2020-07-01 8:25</td>\n",
       "      <td>2020-07-01 8:31</td>\n",
       "      <td>0 days 00:06:24</td>\n",
       "    </tr>\n",
       "    <tr>\n",
       "      <th>1</th>\n",
       "      <td>2020-07-01 11:21</td>\n",
       "      <td>2020-07-01 12:24</td>\n",
       "      <td>0 days 01:02:50</td>\n",
       "    </tr>\n",
       "    <tr>\n",
       "      <th>2</th>\n",
       "      <td>2020-07-01 11:34</td>\n",
       "      <td>2020-07-01 11:44</td>\n",
       "      <td>0 days 00:09:59</td>\n",
       "    </tr>\n",
       "    <tr>\n",
       "      <th>3</th>\n",
       "      <td>2020-07-01 11:40</td>\n",
       "      <td>2020-07-01 11:59</td>\n",
       "      <td>0 days 00:18:59</td>\n",
       "    </tr>\n",
       "    <tr>\n",
       "      <th>4</th>\n",
       "      <td>2020-07-01 12:45</td>\n",
       "      <td>2020-07-01 12:54</td>\n",
       "      <td>0 days 00:08:58</td>\n",
       "    </tr>\n",
       "    <tr>\n",
       "      <th>...</th>\n",
       "      <td>...</td>\n",
       "      <td>...</td>\n",
       "      <td>...</td>\n",
       "    </tr>\n",
       "    <tr>\n",
       "      <th>10860</th>\n",
       "      <td>2021-02-05 13:59</td>\n",
       "      <td>2021-02-05 14:07</td>\n",
       "      <td>0 days 00:07:28</td>\n",
       "    </tr>\n",
       "    <tr>\n",
       "      <th>10861</th>\n",
       "      <td>2021-02-05 14:11</td>\n",
       "      <td>2021-02-05 14:29</td>\n",
       "      <td>0 days 00:18:05</td>\n",
       "    </tr>\n",
       "    <tr>\n",
       "      <th>10862</th>\n",
       "      <td>2021-02-05 14:16</td>\n",
       "      <td>2021-02-05 15:30</td>\n",
       "      <td>0 days 01:14:11</td>\n",
       "    </tr>\n",
       "    <tr>\n",
       "      <th>10863</th>\n",
       "      <td>2021-02-05 14:50</td>\n",
       "      <td>2021-02-05 18:40</td>\n",
       "      <td>0 days 03:49:59</td>\n",
       "    </tr>\n",
       "    <tr>\n",
       "      <th>10864</th>\n",
       "      <td>2021-02-05 15:12</td>\n",
       "      <td>2021-02-05 16:11</td>\n",
       "      <td>0 days 00:58:45</td>\n",
       "    </tr>\n",
       "  </tbody>\n",
       "</table>\n",
       "<p>10865 rows × 3 columns</p>\n",
       "</div>"
      ],
      "text/plain": [
       "                   출발시각              도착시각             사용시간\n",
       "0       2020-07-01 8:25   2020-07-01 8:31  0 days 00:06:24\n",
       "1      2020-07-01 11:21  2020-07-01 12:24  0 days 01:02:50\n",
       "2      2020-07-01 11:34  2020-07-01 11:44  0 days 00:09:59\n",
       "3      2020-07-01 11:40  2020-07-01 11:59  0 days 00:18:59\n",
       "4      2020-07-01 12:45  2020-07-01 12:54  0 days 00:08:58\n",
       "...                 ...               ...              ...\n",
       "10860  2021-02-05 13:59  2021-02-05 14:07  0 days 00:07:28\n",
       "10861  2021-02-05 14:11  2021-02-05 14:29  0 days 00:18:05\n",
       "10862  2021-02-05 14:16  2021-02-05 15:30  0 days 01:14:11\n",
       "10863  2021-02-05 14:50  2021-02-05 18:40  0 days 03:49:59\n",
       "10864  2021-02-05 15:12  2021-02-05 16:11  0 days 00:58:45\n",
       "\n",
       "[10865 rows x 3 columns]"
      ]
     },
     "execution_count": 26,
     "metadata": {},
     "output_type": "execute_result"
    }
   ],
   "source": [
    "#타랑께 이용지점 빈도수\n",
    "import pandas as pd\n",
    "import numpy as np\n",
    "a = pd.read_csv('자전거_사용시간_최종.csv',index_col = 0,encoding = 'cp949')\n",
    "df = pd.DataFrame(a)\n",
    "\n",
    "df"
   ]
  },
  {
   "cell_type": "markdown",
   "id": "269964b3-e904-4682-9421-45dd69974910",
   "metadata": {},
   "source": [
    "# 월별 현황"
   ]
  },
  {
   "cell_type": "code",
   "execution_count": 3,
   "id": "6a8c7d38-21a6-4578-951e-871ebd274780",
   "metadata": {},
   "outputs": [
    {
     "data": {
      "text/plain": [
       "list"
      ]
     },
     "execution_count": 3,
     "metadata": {},
     "output_type": "execute_result"
    }
   ],
   "source": [
    "start=[] \n",
    "for x in range(0, len(df)):\n",
    "    start.append(df['출발시각'][x]) #출발시각 열 추출\n",
    "type(start)"
   ]
  },
  {
   "cell_type": "code",
   "execution_count": 4,
   "id": "67baff50-eb43-4aad-b369-9798ff335eb5",
   "metadata": {},
   "outputs": [
    {
     "data": {
      "text/plain": [
       "'2020-07-01 8:25'"
      ]
     },
     "execution_count": 4,
     "metadata": {},
     "output_type": "execute_result"
    }
   ],
   "source": [
    "start[0]"
   ]
  },
  {
   "cell_type": "code",
   "execution_count": 5,
   "id": "fd48cc34-b2bb-4363-9285-f8a151e3f64f",
   "metadata": {},
   "outputs": [
    {
     "data": {
      "text/plain": [
       "'2020'"
      ]
     },
     "execution_count": 5,
     "metadata": {},
     "output_type": "execute_result"
    }
   ],
   "source": [
    "start[0][0:4] #연도추출"
   ]
  },
  {
   "cell_type": "code",
   "execution_count": 6,
   "id": "6e3d30a7-a0bb-4e5a-8443-a6c026542486",
   "metadata": {},
   "outputs": [
    {
     "data": {
      "text/plain": [
       "'07'"
      ]
     },
     "execution_count": 6,
     "metadata": {},
     "output_type": "execute_result"
    }
   ],
   "source": [
    "start[0][5:7] "
   ]
  },
  {
   "cell_type": "code",
   "execution_count": 7,
   "id": "d97a9d63-d8e7-474f-81f3-be8cfcbfacc7",
   "metadata": {},
   "outputs": [],
   "source": [
    "month = []\n",
    "for i in range(0, len(df)):\n",
    "    month.append(start[i][5:7]) #월 추출"
   ]
  },
  {
   "cell_type": "code",
   "execution_count": 8,
   "id": "42f40545-fc23-456d-868b-57108f34455d",
   "metadata": {},
   "outputs": [
    {
     "data": {
      "text/plain": [
       "10865"
      ]
     },
     "execution_count": 8,
     "metadata": {},
     "output_type": "execute_result"
    }
   ],
   "source": [
    "len(month)"
   ]
  },
  {
   "cell_type": "code",
   "execution_count": 9,
   "id": "6c5c64f7-2b4c-4dad-9b43-081b15217e64",
   "metadata": {
    "tags": []
   },
   "outputs": [
    {
     "name": "stdout",
     "output_type": "stream",
     "text": [
      "446\n"
     ]
    }
   ],
   "source": [
    "print(month.count('07'))"
   ]
  },
  {
   "cell_type": "code",
   "execution_count": 10,
   "id": "e7686199-9fa1-4aaf-a86c-99ef579d77ce",
   "metadata": {},
   "outputs": [
    {
     "name": "stdout",
     "output_type": "stream",
     "text": [
      "{'07': 446, '08': 1438, '09': 2723, '10': 3594, '11': 1324, '12': 629, '01': 582, '02': 129}\n"
     ]
    }
   ],
   "source": [
    "dict = {}  #월별 이용량 추출 키,밸류 방식\n",
    "for v in month:\n",
    "    if dict.get(v): dict[v]+=1\n",
    "    else : dict[v]=1\n",
    "        \n",
    "print(dict)"
   ]
  },
  {
   "cell_type": "code",
   "execution_count": 11,
   "id": "2a409ecd-6342-415d-a6f1-3c09e46f7775",
   "metadata": {},
   "outputs": [],
   "source": [
    "y = (list(dict.values()))# 월별 이용량 밸류 값 리스트 지정\n",
    "x = (list(dict.keys()))#월별 키값 리스트"
   ]
  },
  {
   "cell_type": "code",
   "execution_count": 12,
   "id": "b44a09d5-d3e2-48a9-81e7-ad809fb8d28c",
   "metadata": {},
   "outputs": [
    {
     "name": "stdout",
     "output_type": "stream",
     "text": [
      "['07', '08', '09', '10', '11', '12', '01', '02']\n",
      "[446, 1438, 2723, 3594, 1324, 629, 582, 129]\n"
     ]
    }
   ],
   "source": [
    "print(x)\n",
    "print(y)"
   ]
  },
  {
   "cell_type": "markdown",
   "id": "b5ecf277-c6b5-48c2-b338-69c3ac17d4c0",
   "metadata": {},
   "source": [
    "--------"
   ]
  },
  {
   "cell_type": "markdown",
   "id": "6f10038e-7ffe-4505-85b6-b86324fc7e8a",
   "metadata": {},
   "source": [
    "# 시간대별 현황"
   ]
  },
  {
   "cell_type": "code",
   "execution_count": 13,
   "id": "49991991-ae97-4b4e-84d3-2102dc9c18a1",
   "metadata": {},
   "outputs": [
    {
     "data": {
      "text/plain": [
       "list"
      ]
     },
     "execution_count": 13,
     "metadata": {},
     "output_type": "execute_result"
    }
   ],
   "source": [
    "usage=[]\n",
    "for x in range(0, len(df)):\n",
    "    usage.append(df['사용시간'][x]) #사용시간 열 추출\n",
    "type(usage)"
   ]
  },
  {
   "cell_type": "code",
   "execution_count": 14,
   "id": "1db3954f-af1c-4990-91b0-234945c1cb9b",
   "metadata": {},
   "outputs": [
    {
     "data": {
      "text/plain": [
       "'0 days 00:06:24'"
      ]
     },
     "execution_count": 14,
     "metadata": {},
     "output_type": "execute_result"
    }
   ],
   "source": [
    "usage[0] "
   ]
  },
  {
   "cell_type": "code",
   "execution_count": 15,
   "id": "cfc5c44b-b75c-4122-9a01-9bc504833221",
   "metadata": {},
   "outputs": [
    {
     "data": {
      "text/plain": [
       "'06'"
      ]
     },
     "execution_count": 15,
     "metadata": {},
     "output_type": "execute_result"
    }
   ],
   "source": [
    "usage[0][10:12]"
   ]
  },
  {
   "cell_type": "code",
   "execution_count": 16,
   "id": "d2dc4555-7179-4103-9b3e-50bad804e693",
   "metadata": {},
   "outputs": [],
   "source": [
    "minute = []\n",
    "for i in range(0, len(df)):\n",
    "    minute.append(usage[i][10:12]) #사용시간 (분 추출)"
   ]
  },
  {
   "cell_type": "code",
   "execution_count": 17,
   "id": "b5522745-e69a-48e3-ba72-c79036337d7d",
   "metadata": {},
   "outputs": [],
   "source": [
    "minute.sort()"
   ]
  },
  {
   "cell_type": "code",
   "execution_count": 18,
   "id": "c7db3f12-1d2d-44cc-9ce7-8534f05af375",
   "metadata": {},
   "outputs": [
    {
     "name": "stdout",
     "output_type": "stream",
     "text": [
      "{'00': 87, '01': 80, '02': 291, '03': 402, '04': 464, '05': 551, '06': 552, '07': 511, '08': 487, '09': 473, '10': 359, '11': 355, '12': 312, '13': 291, '14': 246, '15': 245, '16': 241, '17': 209, '18': 225, '19': 206, '20': 168, '21': 217, '22': 172, '23': 173, '24': 177, '25': 138, '26': 143, '27': 160, '28': 130, '29': 125, '30': 122, '31': 118, '32': 121, '33': 116, '34': 95, '35': 82, '36': 97, '37': 96, '38': 89, '39': 106, '40': 98, '41': 76, '42': 89, '43': 96, '44': 80, '45': 89, '46': 76, '47': 62, '48': 73, '49': 77, '50': 81, '51': 81, '52': 92, '53': 77, '54': 79, '55': 92, '56': 82, '57': 84, '58': 76, '59': 73}\n"
     ]
    }
   ],
   "source": [
    "dict1 = {}\n",
    "for v in minute:\n",
    "    if dict1.get(v): dict1[v]+=1   \n",
    "    else : dict1[v]=1   #시간대 별 이용량 추출\n",
    "        \n",
    "print(dict1)"
   ]
  },
  {
   "cell_type": "code",
   "execution_count": 19,
   "id": "fb47015f-7d39-4db6-b4bb-acaccbc69fc9",
   "metadata": {},
   "outputs": [],
   "source": [
    "x = (list(dict1.keys()))\n",
    "y = (list(dict1.values()))"
   ]
  },
  {
   "cell_type": "code",
   "execution_count": 20,
   "id": "e5212143-23d2-4587-a9c3-0f3800cee066",
   "metadata": {},
   "outputs": [
    {
     "name": "stdout",
     "output_type": "stream",
     "text": [
      "['00', '01', '02', '03', '04', '05', '06', '07', '08', '09', '10', '11', '12', '13', '14', '15', '16', '17', '18', '19', '20', '21', '22', '23', '24', '25', '26', '27', '28', '29', '30', '31', '32', '33', '34', '35', '36', '37', '38', '39', '40', '41', '42', '43', '44', '45', '46', '47', '48', '49', '50', '51', '52', '53', '54', '55', '56', '57', '58', '59']\n",
      "[87, 80, 291, 402, 464, 551, 552, 511, 487, 473, 359, 355, 312, 291, 246, 245, 241, 209, 225, 206, 168, 217, 172, 173, 177, 138, 143, 160, 130, 125, 122, 118, 121, 116, 95, 82, 97, 96, 89, 106, 98, 76, 89, 96, 80, 89, 76, 62, 73, 77, 81, 81, 92, 77, 79, 92, 82, 84, 76, 73]\n"
     ]
    }
   ],
   "source": [
    "print(x)\n",
    "print(y)"
   ]
  },
  {
   "cell_type": "code",
   "execution_count": 21,
   "id": "5d78788c-7645-4242-9404-c0e6626f1fc2",
   "metadata": {},
   "outputs": [
    {
     "data": {
      "text/plain": [
       "[87, 80, 291, 402, 464, 551, 552, 511, 487, 473]"
      ]
     },
     "execution_count": 21,
     "metadata": {},
     "output_type": "execute_result"
    }
   ],
   "source": [
    "y[0:10]"
   ]
  },
  {
   "cell_type": "code",
   "execution_count": 22,
   "id": "f713a59b-3f70-423c-9ba4-367a765896dd",
   "metadata": {},
   "outputs": [],
   "source": [
    "minute_by_10 = []   #시간대별 시각화 위해 10분 단위로 이용량 나누기\n",
    "division = [10, 20, 30, 40, 50, 60]\n",
    "for i in division:\n",
    "    a = sum(y[i-10:i])\n",
    "    minute_by_10.append(a)"
   ]
  },
  {
   "cell_type": "code",
   "execution_count": 23,
   "id": "32763851-b7eb-4aa6-a277-558b378365c8",
   "metadata": {},
   "outputs": [
    {
     "data": {
      "text/plain": [
       "[3898, 2689, 1603, 1042, 816, 817]"
      ]
     },
     "execution_count": 23,
     "metadata": {},
     "output_type": "execute_result"
    }
   ],
   "source": [
    "minute_by_10"
   ]
  },
  {
   "cell_type": "code",
   "execution_count": 24,
   "id": "41490e97-6fe3-41e8-b64e-e0ebae1fce20",
   "metadata": {},
   "outputs": [
    {
     "data": {
      "image/png": "[encoded data removed]",
      "text/plain": [
       "<Figure size 432x288 with 1 Axes>"
      ]
     },
     "metadata": {
      "needs_background": "light"
     },
     "output_type": "display_data"
    }
   ],
   "source": [
    "plt.rcParams['font.family'] = 'Malgun Gothic'\n",
    "plt.xlabel('탑승시간')\n",
    "plt.ylabel('이용건수')\n",
    "plt.bar(division, minute_by_10, width=6) #시간대별 시각화\n",
    "plt.show()"
   ]
  },
  {
   "cell_type": "code",
   "execution_count": null,
   "id": "28858c28-9121-4c75-b388-d461bf0dd571",
   "metadata": {},
   "outputs": [],
   "source": []
  },
  {
   "cell_type": "code",
   "execution_count": 25,
   "id": "4cbb4aa0-3580-4485-9b47-72ac0b0f4918",
   "metadata": {},
   "outputs": [
    {
     "data": {
      "image/png": "[encoded data removed]",
      "text/plain": [
       "<Figure size 432x288 with 1 Axes>"
      ]
     },
     "metadata": {
      "needs_background": "light"
     },
     "output_type": "display_data"
    }
   ],
   "source": [
    "import matplotlib.pyplot as plt\n",
    "plt.rcParams['font.family'] = 'Malgun Gothic'\n",
    "\n",
    "plt.bar(x, y)\n",
    "plt.xlabel('월')\n",
    "plt.ylabel('이용건수')\n",
    "plt.show()"
   ]
  },
  {
   "cell_type": "code",
   "execution_count": null,
   "id": "389505bb-2bb5-49f5-a7c2-2d765f7b2beb",
   "metadata": {},
   "outputs": [],
   "source": []
  },
  {
   "cell_type": "code",
   "execution_count": null,
   "id": "72eedd21-7556-4d8e-b059-da4ab8e0e0cd",
   "metadata": {},
   "outputs": [],
   "source": []
  }
 ],
 "metadata": {
  "kernelspec": {
   "display_name": "Python 3",
   "language": "python",
   "name": "python3"
  },
  "language_info": {
   "codemirror_mode": {
    "name": "ipython",
    "version": 3
   },
   "file_extension": ".py",
   "mimetype": "text/x-python",
   "name": "python",
   "nbconvert_exporter": "python",
   "pygments_lexer": "ipython3",
   "version": "3.8.8"
  }
 },
 "nbformat": 4,
 "nbformat_minor": 5
}
