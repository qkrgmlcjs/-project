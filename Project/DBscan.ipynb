{
 "cells": [
  {
   "cell_type": "code",
   "execution_count": 53,
   "id": "c1a7990f-138e-49ad-871b-037ee249c216",
   "metadata": {},
   "outputs": [
    {
     "data": {
      "text/html": [
       "<div>\n",
       "<style scoped>\n",
       "    .dataframe tbody tr th:only-of-type {\n",
       "        vertical-align: middle;\n",
       "    }\n",
       "\n",
       "    .dataframe tbody tr th {\n",
       "        vertical-align: top;\n",
       "    }\n",
       "\n",
       "    .dataframe thead th {\n",
       "        text-align: right;\n",
       "    }\n",
       "</style>\n",
       "<table border=\"1\" class=\"dataframe\">\n",
       "  <thead>\n",
       "    <tr style=\"text-align: right;\">\n",
       "      <th></th>\n",
       "      <th>20~30대 인구수</th>\n",
       "      <th>총인구</th>\n",
       "      <th>유동인구</th>\n",
       "      <th>정류장수</th>\n",
       "      <th>정류장인원수</th>\n",
       "    </tr>\n",
       "    <tr>\n",
       "      <th>행정동</th>\n",
       "      <th></th>\n",
       "      <th></th>\n",
       "      <th></th>\n",
       "      <th></th>\n",
       "      <th></th>\n",
       "    </tr>\n",
       "  </thead>\n",
       "  <tbody>\n",
       "    <tr>\n",
       "      <th>건국동</th>\n",
       "      <td>6405</td>\n",
       "      <td>22605</td>\n",
       "      <td>358766</td>\n",
       "      <td>0</td>\n",
       "      <td>0</td>\n",
       "    </tr>\n",
       "    <tr>\n",
       "      <th>계림동</th>\n",
       "      <td>4904</td>\n",
       "      <td>18182</td>\n",
       "      <td>158006</td>\n",
       "      <td>0</td>\n",
       "      <td>0</td>\n",
       "    </tr>\n",
       "    <tr>\n",
       "      <th>광천동</th>\n",
       "      <td>2153</td>\n",
       "      <td>8639</td>\n",
       "      <td>196750</td>\n",
       "      <td>3</td>\n",
       "      <td>119664</td>\n",
       "    </tr>\n",
       "    <tr>\n",
       "      <th>금호동</th>\n",
       "      <td>12332</td>\n",
       "      <td>49692</td>\n",
       "      <td>170268</td>\n",
       "      <td>1</td>\n",
       "      <td>18878</td>\n",
       "    </tr>\n",
       "    <tr>\n",
       "      <th>농성동</th>\n",
       "      <td>4725</td>\n",
       "      <td>16196</td>\n",
       "      <td>213296</td>\n",
       "      <td>0</td>\n",
       "      <td>0</td>\n",
       "    </tr>\n",
       "  </tbody>\n",
       "</table>\n",
       "</div>"
      ],
      "text/plain": [
       "     20~30대 인구수    총인구    유동인구  정류장수  정류장인원수\n",
       "행정동                                         \n",
       "건국동        6405  22605  358766     0       0\n",
       "계림동        4904  18182  158006     0       0\n",
       "광천동        2153   8639  196750     3  119664\n",
       "금호동       12332  49692  170268     1   18878\n",
       "농성동        4725  16196  213296     0       0"
      ]
     },
     "execution_count": 53,
     "metadata": {},
     "output_type": "execute_result"
    }
   ],
   "source": [
    "from sklearn import datasets\n",
    "import pandas as pd\n",
    "\n",
    "data = pd.read_csv('dataset.csv',index_col = 0,encoding = 'utf-8')\n",
    "#labels = pd.DataFrame(data.target)\n",
    "#labels.columns=['유동인구']\n",
    "\n",
    "data.columns=['20~30대 인구수','총인구','유동인구','정류장수','정류장인원수']\n",
    "data = pd.concat([data],axis=1)\n",
    "\n",
    "data.head()"
   ]
  },
  {
   "cell_type": "code",
   "execution_count": 57,
   "id": "3694f598-cf51-4c45-a4f9-8baf2de631fd",
   "metadata": {},
   "outputs": [],
   "source": [
    "feature = data[ ['20~30대 인구수','유동인구']]"
   ]
  },
  {
   "cell_type": "code",
   "execution_count": 58,
   "id": "a0799b4d-6dd5-4d3f-8ff6-13016d76b3ab",
   "metadata": {},
   "outputs": [
    {
     "data": {
      "text/html": [
       "<div>\n",
       "<style scoped>\n",
       "    .dataframe tbody tr th:only-of-type {\n",
       "        vertical-align: middle;\n",
       "    }\n",
       "\n",
       "    .dataframe tbody tr th {\n",
       "        vertical-align: top;\n",
       "    }\n",
       "\n",
       "    .dataframe thead th {\n",
       "        text-align: right;\n",
       "    }\n",
       "</style>\n",
       "<table border=\"1\" class=\"dataframe\">\n",
       "  <thead>\n",
       "    <tr style=\"text-align: right;\">\n",
       "      <th></th>\n",
       "      <th>20~30대 인구수</th>\n",
       "      <th>유동인구</th>\n",
       "    </tr>\n",
       "    <tr>\n",
       "      <th>행정동</th>\n",
       "      <th></th>\n",
       "      <th></th>\n",
       "    </tr>\n",
       "  </thead>\n",
       "  <tbody>\n",
       "    <tr>\n",
       "      <th>건국동</th>\n",
       "      <td>6405</td>\n",
       "      <td>358766</td>\n",
       "    </tr>\n",
       "    <tr>\n",
       "      <th>계림동</th>\n",
       "      <td>4904</td>\n",
       "      <td>158006</td>\n",
       "    </tr>\n",
       "    <tr>\n",
       "      <th>광천동</th>\n",
       "      <td>2153</td>\n",
       "      <td>196750</td>\n",
       "    </tr>\n",
       "    <tr>\n",
       "      <th>금호동</th>\n",
       "      <td>12332</td>\n",
       "      <td>170268</td>\n",
       "    </tr>\n",
       "    <tr>\n",
       "      <th>농성동</th>\n",
       "      <td>4725</td>\n",
       "      <td>213296</td>\n",
       "    </tr>\n",
       "  </tbody>\n",
       "</table>\n",
       "</div>"
      ],
      "text/plain": [
       "     20~30대 인구수    유동인구\n",
       "행정동                    \n",
       "건국동        6405  358766\n",
       "계림동        4904  158006\n",
       "광천동        2153  196750\n",
       "금호동       12332  170268\n",
       "농성동        4725  213296"
      ]
     },
     "execution_count": 58,
     "metadata": {},
     "output_type": "execute_result"
    }
   ],
   "source": [
    "feature.head()\n"
   ]
  },
  {
   "cell_type": "code",
   "execution_count": 21,
   "id": "ce88c2e2-b32f-4944-a155-357e756d61a0",
   "metadata": {},
   "outputs": [],
   "source": [
    "#feature = feature.reset_index()\n"
   ]
  },
  {
   "cell_type": "code",
   "execution_count": 59,
   "id": "0197a082-16eb-4aea-9cf7-82fe77cfaeb7",
   "metadata": {},
   "outputs": [
    {
     "data": {
      "text/plain": [
       "Index(['건국동', '계림동', '광천동', '금호동', '농성동', '대촌동', '도산동', '동곡동', '동림동', '동명동',\n",
       "       '동천동', '두암동', '매곡동', '문화동', '문흥동', '방림동', '백운동', '본량동', '봉선동', '비아동',\n",
       "       '사직동', '산수동', '삼각동', '삼도동', '상무동', '서남동', '서창동', '석곡동', '송암동', '송정동',\n",
       "       '수완동', '신가동', '신안동', '신용동', '신창동', '신흥동', '양동', '양림동', '양산동', '어령동',\n",
       "       '오치동', '용봉동', '우산동(광산구)', '우산동(북구)', '운남동', '운암동', '월곡동', '월산동', '유덕동',\n",
       "       '일곡동', '임곡동', '임동', '주월동', '중앙동', '중흥동', '지산동', '지원동', '첨단동', '충장동',\n",
       "       '치평동', '평동', '풍암동', '풍향동', '하남동', '학동', '학운동', '화정동', '효덕동'],\n",
       "      dtype='object', name='행정동')"
      ]
     },
     "execution_count": 59,
     "metadata": {},
     "output_type": "execute_result"
    }
   ],
   "source": [
    "index_list = feature.index\n",
    "index_list\n"
   ]
  },
  {
   "cell_type": "code",
   "execution_count": 60,
   "id": "682bb7aa-8b0f-43c9-9c09-6b98d9025bd0",
   "metadata": {},
   "outputs": [
    {
     "data": {
      "text/html": [
       "<div>\n",
       "<style scoped>\n",
       "    .dataframe tbody tr th:only-of-type {\n",
       "        vertical-align: middle;\n",
       "    }\n",
       "\n",
       "    .dataframe tbody tr th {\n",
       "        vertical-align: top;\n",
       "    }\n",
       "\n",
       "    .dataframe thead th {\n",
       "        text-align: right;\n",
       "    }\n",
       "</style>\n",
       "<table border=\"1\" class=\"dataframe\">\n",
       "  <thead>\n",
       "    <tr style=\"text-align: right;\">\n",
       "      <th></th>\n",
       "      <th>predict</th>\n",
       "    </tr>\n",
       "    <tr>\n",
       "      <th>행정동</th>\n",
       "      <th></th>\n",
       "    </tr>\n",
       "  </thead>\n",
       "  <tbody>\n",
       "    <tr>\n",
       "      <th>건국동</th>\n",
       "      <td>-1</td>\n",
       "    </tr>\n",
       "    <tr>\n",
       "      <th>계림동</th>\n",
       "      <td>-1</td>\n",
       "    </tr>\n",
       "    <tr>\n",
       "      <th>광천동</th>\n",
       "      <td>-1</td>\n",
       "    </tr>\n",
       "    <tr>\n",
       "      <th>금호동</th>\n",
       "      <td>-1</td>\n",
       "    </tr>\n",
       "    <tr>\n",
       "      <th>농성동</th>\n",
       "      <td>-1</td>\n",
       "    </tr>\n",
       "    <tr>\n",
       "      <th>...</th>\n",
       "      <td>...</td>\n",
       "    </tr>\n",
       "    <tr>\n",
       "      <th>하남동</th>\n",
       "      <td>-1</td>\n",
       "    </tr>\n",
       "    <tr>\n",
       "      <th>학동</th>\n",
       "      <td>-1</td>\n",
       "    </tr>\n",
       "    <tr>\n",
       "      <th>학운동</th>\n",
       "      <td>-1</td>\n",
       "    </tr>\n",
       "    <tr>\n",
       "      <th>화정동</th>\n",
       "      <td>-1</td>\n",
       "    </tr>\n",
       "    <tr>\n",
       "      <th>효덕동</th>\n",
       "      <td>-1</td>\n",
       "    </tr>\n",
       "  </tbody>\n",
       "</table>\n",
       "<p>68 rows × 1 columns</p>\n",
       "</div>"
      ],
      "text/plain": [
       "     predict\n",
       "행정동         \n",
       "건국동       -1\n",
       "계림동       -1\n",
       "광천동       -1\n",
       "금호동       -1\n",
       "농성동       -1\n",
       "..       ...\n",
       "하남동       -1\n",
       "학동        -1\n",
       "학운동       -1\n",
       "화정동       -1\n",
       "효덕동       -1\n",
       "\n",
       "[68 rows x 1 columns]"
      ]
     },
     "execution_count": 60,
     "metadata": {},
     "output_type": "execute_result"
    }
   ],
   "source": [
    "predict.index = index_list\n",
    "predict"
   ]
  },
  {
   "cell_type": "code",
   "execution_count": 61,
   "id": "69dd358a-ddbd-4223-8c5f-6cb2ee9e1288",
   "metadata": {},
   "outputs": [
    {
     "data": {
      "text/html": [
       "<div>\n",
       "<style scoped>\n",
       "    .dataframe tbody tr th:only-of-type {\n",
       "        vertical-align: middle;\n",
       "    }\n",
       "\n",
       "    .dataframe tbody tr th {\n",
       "        vertical-align: top;\n",
       "    }\n",
       "\n",
       "    .dataframe thead th {\n",
       "        text-align: right;\n",
       "    }\n",
       "</style>\n",
       "<table border=\"1\" class=\"dataframe\">\n",
       "  <thead>\n",
       "    <tr style=\"text-align: right;\">\n",
       "      <th></th>\n",
       "      <th>predict</th>\n",
       "    </tr>\n",
       "    <tr>\n",
       "      <th>행정동</th>\n",
       "      <th></th>\n",
       "    </tr>\n",
       "  </thead>\n",
       "  <tbody>\n",
       "    <tr>\n",
       "      <th>건국동</th>\n",
       "      <td>-1</td>\n",
       "    </tr>\n",
       "    <tr>\n",
       "      <th>계림동</th>\n",
       "      <td>-1</td>\n",
       "    </tr>\n",
       "    <tr>\n",
       "      <th>광천동</th>\n",
       "      <td>-1</td>\n",
       "    </tr>\n",
       "    <tr>\n",
       "      <th>금호동</th>\n",
       "      <td>-1</td>\n",
       "    </tr>\n",
       "    <tr>\n",
       "      <th>농성동</th>\n",
       "      <td>-1</td>\n",
       "    </tr>\n",
       "    <tr>\n",
       "      <th>...</th>\n",
       "      <td>...</td>\n",
       "    </tr>\n",
       "    <tr>\n",
       "      <th>하남동</th>\n",
       "      <td>-1</td>\n",
       "    </tr>\n",
       "    <tr>\n",
       "      <th>학동</th>\n",
       "      <td>-1</td>\n",
       "    </tr>\n",
       "    <tr>\n",
       "      <th>학운동</th>\n",
       "      <td>-1</td>\n",
       "    </tr>\n",
       "    <tr>\n",
       "      <th>화정동</th>\n",
       "      <td>-1</td>\n",
       "    </tr>\n",
       "    <tr>\n",
       "      <th>효덕동</th>\n",
       "      <td>-1</td>\n",
       "    </tr>\n",
       "  </tbody>\n",
       "</table>\n",
       "<p>68 rows × 1 columns</p>\n",
       "</div>"
      ],
      "text/plain": [
       "     predict\n",
       "행정동         \n",
       "건국동       -1\n",
       "계림동       -1\n",
       "광천동       -1\n",
       "금호동       -1\n",
       "농성동       -1\n",
       "..       ...\n",
       "하남동       -1\n",
       "학동        -1\n",
       "학운동       -1\n",
       "화정동       -1\n",
       "효덕동       -1\n",
       "\n",
       "[68 rows x 1 columns]"
      ]
     },
     "execution_count": 61,
     "metadata": {},
     "output_type": "execute_result"
    }
   ],
   "source": [
    "from sklearn.cluster import DBSCAN\n",
    "import matplotlib.pyplot  as plt\n",
    "import seaborn as sns\n",
    "\n",
    "\n",
    "# create model and prediction\n",
    "model = DBSCAN(eps=0.5,min_samples=5)\n",
    "predict = pd.DataFrame(model.fit_predict(feature))\n",
    "predict.columns=['predict']\n",
    "predict.index = index_list\n",
    "predict\n",
    "\n",
    "\n",
    "\n"
   ]
  },
  {
   "cell_type": "code",
   "execution_count": 62,
   "id": "ae388560-263a-42fc-aa98-9e710a22452b",
   "metadata": {},
   "outputs": [],
   "source": [
    "plt.rcParams['font.family'] = 'Malgun Gothic' #한글 출력 위해 글꼴 설정하기|"
   ]
  },
  {
   "cell_type": "code",
   "execution_count": 63,
   "id": "1595f56d-8e37-44cf-857e-35fdf7125dd2",
   "metadata": {},
   "outputs": [],
   "source": [
    "# concatenate labels to df as a new column\n",
    "r = pd.concat([feature,predict],axis=1)"
   ]
  },
  {
   "cell_type": "code",
   "execution_count": 64,
   "id": "5b724d9b-3493-4efc-9879-39a082cf9e55",
   "metadata": {},
   "outputs": [
    {
     "name": "stdout",
     "output_type": "stream",
     "text": [
      "     20~30대 인구수    유동인구  predict\n",
      "행정동                             \n",
      "건국동        6405  358766       -1\n",
      "계림동        4904  158006       -1\n",
      "광천동        2153  196750       -1\n",
      "금호동       12332  170268       -1\n",
      "농성동        4725  213296       -1\n",
      "..          ...     ...      ...\n",
      "하남동        6538  776453       -1\n",
      "학동         2314  247710       -1\n",
      "학운동        2503   41664       -1\n",
      "화정동       17487  416288       -1\n",
      "효덕동       11856  119038       -1\n",
      "\n",
      "[68 rows x 3 columns]\n"
     ]
    }
   ],
   "source": [
    "print(r)"
   ]
  },
  {
   "cell_type": "code",
   "execution_count": 66,
   "id": "92e82c0d-cd27-45b8-945a-17fafd18b650",
   "metadata": {},
   "outputs": [
    {
     "data": {
      "image/png": "[encoded data removed]",
      "text/plain": [
       "<Figure size 432x432 with 1 Axes>"
      ]
     },
     "metadata": {
      "needs_background": "light"
     },
     "output_type": "display_data"
    }
   ],
   "source": [
    "\n",
    "from mpl_toolkits.mplot3d import Axes3D\n",
    "# scatter plot\n",
    "fig = plt.figure( figsize=(6,6))\n",
    "ax = Axes3D(fig, rect=[0, 0, .95, 1], elev=48, azim=134)\n",
    "ax.scatter(r['20~30대 인구수'],r['유동인구'],c=r['predict'],alpha=0.5)\n",
    "ax.set_xlabel('20~30대 인구수')\n",
    "\n",
    "ax.set_ylabel('유동인구')\n",
    "plt.show()\n",
    "\n",
    "\n",
    "\n",
    "#출처: https://bcho.tistory.com/1205 [조대협의 블로그]"
   ]
  },
  {
   "cell_type": "code",
   "execution_count": null,
   "id": "8a714a5f-f6b5-42de-8dd6-76b7374c72fc",
   "metadata": {},
   "outputs": [],
   "source": [
    "ct = pd.crosstab(data['labels'],r['predict'])\n",
    "print (ct)\n",
    "\n",
    "\n",
    "\n",
    "#출처: https://bcho.tistory.com/1205 [조대협의 블로그]"
   ]
  },
  {
   "cell_type": "code",
   "execution_count": null,
   "id": "9205bc98-a6f1-491a-8383-420c88d35c11",
   "metadata": {},
   "outputs": [],
   "source": []
  }
 ],
 "metadata": {
  "kernelspec": {
   "display_name": "Python 3",
   "language": "python",
   "name": "python3"
  },
  "language_info": {
   "codemirror_mode": {
    "name": "ipython",
    "version": 3
   },
   "file_extension": ".py",
   "mimetype": "text/x-python",
   "name": "python",
   "nbconvert_exporter": "python",
   "pygments_lexer": "ipython3",
   "version": "3.8.8"
  }
 },
 "nbformat": 4,
 "nbformat_minor": 5
}
