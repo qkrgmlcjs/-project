{
 "cells": [
  {
   "cell_type": "code",
   "execution_count": 76,
   "id": "9d0e5ee1",
   "metadata": {},
   "outputs": [],
   "source": [
    "from urllib.request import urlopen\n",
    "from urllib.parse import urlencode, quote_plus, unquote\n",
    "import requests\n",
    "import xml.etree.ElementTree as ET\n",
    "import pandas as pd\n",
    "from bs4 import BeautifulSoup\n",
    "import re"
   ]
  },
  {
   "cell_type": "code",
   "execution_count": 77,
   "id": "7bc5a997",
   "metadata": {},
   "outputs": [],
   "source": [
    "#확인용 주소\n",
    "#http://apis.data.go.kr/1613000/BldRgstService_v2/getBrBasisOulnInfo?sigunguCd=29110&bjdongCd=10100&pageNo=1&ServiceKey=%2BOMpPO1ZBbFFUaHQ0Xe%2FFOvM9tzEsH8J8ZrVQgFL6k1erhJeEbTYudz38k8u0gU9OZarmZMFPCiUYkoCNTe87g%3D%3D"
   ]
  },
  {
   "cell_type": "code",
   "execution_count": null,
   "id": "b78c298e-5c04-49b5-8df3-a3ec16d80712",
   "metadata": {},
   "outputs": [],
   "source": []
  },
  {
   "cell_type": "code",
   "execution_count": 121,
   "id": "bb4d61aa",
   "metadata": {},
   "outputs": [],
   "source": [
    "#실험중인 코드\n",
    "#동구 번지 코드\n",
    "donggu_code=[10100, 10200, 10300,10400,10500,10600,10700,10800,10900,11000,\n",
    "             11100,11200,11300,11400,11500,11600,11700,11800,11900,12000,12100,\n",
    "             12200,12300,12400,12500,12600,12700,12800,12900,13000,13100,13200,\n",
    "             13300,13400]\n",
    "rows = []\n",
    "count_li=[]\n",
    "for bjdongCd in donggu_code:\n",
    "    url = 'http://apis.data.go.kr/1613000/BldRgstService_v2/getBrBasisOulnInfo?sigunguCd=29110&bjdongCd='+str(bjdongCd)+'&pageNo=1&ServiceKey=%2BOMpPO1ZBbFFUaHQ0Xe%2FFOvM9tzEsH8J8ZrVQgFL6k1erhJeEbTYudz38k8u0gU9OZarmZMFPCiUYkoCNTe87g%3D%3D'\n",
    "    req_top = requests.get(url)\n",
    "    #data = urlopen(url).read()\n",
    "    data = BeautifulSoup(req_top.text, 'lxml-xml')\n",
    "    xtree = data.select('totalCount')\n",
    "    s=str(xtree[0])\n",
    "    count=re.search('<totalCount>(.*)</totalCount>',s).group(1)\n",
    "    k = count\n",
    "    count_li.append(k)\n"
   ]
  },
  {
   "cell_type": "code",
   "execution_count": 122,
   "id": "5e464b1d-e57a-4255-939c-295f3c784b3d",
   "metadata": {},
   "outputs": [],
   "source": [
    "for bjdongCd in donggu_code:\n",
    "    url = 'http://apis.data.go.kr/1613000/BldRgstService_v2/getBrBasisOulnInfo?sigunguCd=29110&bjdongCd='+str(bjdongCd)+'&ServiceKey=%2BOMpPO1ZBbFFUaHQ0Xe%2FFOvM9tzEsH8J8ZrVQgFL6k1erhJeEbTYudz38k8u0gU9OZarmZMFPCiUYkoCNTe87g%3D%3D'\n",
    "    data = urlopen(url).read()\n",
    "    xtree = ET.fromstring(data)\n",
    "\n",
    "    for node in xtree[1][0]:\n",
    "        n_platPlc = node.find('platPlc').text\n",
    "\n",
    "        rows.append({\n",
    "            'platPlc': n_platPlc\n",
    "        })\n",
    "\n",
    "columns=['platPlc']\n",
    "catalog_df = pd.DataFrame(rows, columns=columns)\n",
    "catalog_df.to_csv('final_donggu_bilding.csv', encoding='cp949')"
   ]
  },
  {
   "cell_type": "code",
   "execution_count": 123,
   "id": "f3952018-b89e-4822-837c-aeb7e8800b6f",
   "metadata": {},
   "outputs": [
    {
     "ename": "IndexError",
     "evalue": "child index out of range",
     "output_type": "error",
     "traceback": [
      "\u001b[1;31m---------------------------------------------------------------------------\u001b[0m",
      "\u001b[1;31mIndexError\u001b[0m                                Traceback (most recent call last)",
      "\u001b[1;32m<ipython-input-123-54bdebee95e1>\u001b[0m in \u001b[0;36m<module>\u001b[1;34m\u001b[0m\n\u001b[0;32m      5\u001b[0m         \u001b[0mxtree\u001b[0m \u001b[1;33m=\u001b[0m \u001b[0mET\u001b[0m\u001b[1;33m.\u001b[0m\u001b[0mfromstring\u001b[0m\u001b[1;33m(\u001b[0m\u001b[0mdata\u001b[0m\u001b[1;33m)\u001b[0m\u001b[1;33m\u001b[0m\u001b[1;33m\u001b[0m\u001b[0m\n\u001b[0;32m      6\u001b[0m \u001b[1;33m\u001b[0m\u001b[0m\n\u001b[1;32m----> 7\u001b[1;33m         \u001b[1;32mfor\u001b[0m \u001b[0mnode\u001b[0m \u001b[1;32min\u001b[0m \u001b[0mxtree\u001b[0m\u001b[1;33m[\u001b[0m\u001b[1;36m1\u001b[0m\u001b[1;33m]\u001b[0m\u001b[1;33m[\u001b[0m\u001b[1;36m0\u001b[0m\u001b[1;33m]\u001b[0m\u001b[1;33m:\u001b[0m\u001b[1;33m\u001b[0m\u001b[1;33m\u001b[0m\u001b[0m\n\u001b[0m\u001b[0;32m      8\u001b[0m             \u001b[0mn_platPlc\u001b[0m \u001b[1;33m=\u001b[0m \u001b[0mnode\u001b[0m\u001b[1;33m.\u001b[0m\u001b[0mfind\u001b[0m\u001b[1;33m(\u001b[0m\u001b[1;34m'platPlc'\u001b[0m\u001b[1;33m)\u001b[0m\u001b[1;33m.\u001b[0m\u001b[0mtext\u001b[0m\u001b[1;33m\u001b[0m\u001b[1;33m\u001b[0m\u001b[0m\n\u001b[0;32m      9\u001b[0m \u001b[1;33m\u001b[0m\u001b[0m\n",
      "\u001b[1;31mIndexError\u001b[0m: child index out of range"
     ]
    }
   ],
   "source": [
    "for bjdongCd in donggu_code:\n",
    "    for pageNo in count_li:\n",
    "        url = 'http://apis.data.go.kr/1613000/BldRgstService_v2/getBrBasisOulnInfo?sigunguCd=29110&bjdongCd='+str(bjdongCd)+'&pageNo='+str(pageNo)+'&ServiceKey=%2BOMpPO1ZBbFFUaHQ0Xe%2FFOvM9tzEsH8J8ZrVQgFL6k1erhJeEbTYudz38k8u0gU9OZarmZMFPCiUYkoCNTe87g%3D%3D'\n",
    "        data = urlopen(url).read()\n",
    "        xtree = ET.fromstring(data)\n",
    "\n",
    "        for node in xtree[1][0]:\n",
    "            n_platPlc = node.find('platPlc').text\n",
    "\n",
    "            rows.append({\n",
    "                'platPlc': n_platPlc\n",
    "            })\n",
    "\n",
    "columns=['platPlc']\n",
    "catalog_df = pd.DataFrame(rows, columns=columns)\n",
    "catalog_df.to_csv('final_donggu_bilding.csv', encoding='cp949')"
   ]
  },
  {
   "cell_type": "code",
   "execution_count": null,
   "id": "b7187923-61f4-4596-9b6a-a4439070d718",
   "metadata": {},
   "outputs": [],
   "source": []
  },
  {
   "cell_type": "code",
   "execution_count": null,
   "id": "adfa97ec-b695-429b-b77b-1c1e9e0b2527",
   "metadata": {},
   "outputs": [],
   "source": []
  },
  {
   "cell_type": "code",
   "execution_count": null,
   "id": "76326281-9bf2-4d0b-97f2-64e07a2cf31b",
   "metadata": {},
   "outputs": [],
   "source": []
  },
  {
   "cell_type": "code",
   "execution_count": null,
   "id": "2fb54e69-1df5-4a89-9e69-3a7504cb70a0",
   "metadata": {},
   "outputs": [],
   "source": []
  }
 ],
 "metadata": {
  "kernelspec": {
   "display_name": "Python 3",
   "language": "python",
   "name": "python3"
  },
  "language_info": {
   "codemirror_mode": {
    "name": "ipython",
    "version": 3
   },
   "file_extension": ".py",
   "mimetype": "text/x-python",
   "name": "python",
   "nbconvert_exporter": "python",
   "pygments_lexer": "ipython3",
   "version": "3.8.8"
  }
 },
 "nbformat": 4,
 "nbformat_minor": 5
}
