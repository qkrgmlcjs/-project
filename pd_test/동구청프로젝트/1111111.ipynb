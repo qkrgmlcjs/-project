{
 "cells": [
  {
   "cell_type": "code",
   "execution_count": 36,
   "id": "9d0e5ee1",
   "metadata": {},
   "outputs": [],
   "source": [
    "from urllib.request import urlopen\n",
    "from urllib.parse import urlencode, quote_plus, unquote\n",
    "import requests\n",
    "import xml.etree.ElementTree as ET\n",
    "import pandas as pd\n",
    "from bs4 import BeautifulSoup"
   ]
  },
  {
   "cell_type": "code",
   "execution_count": 37,
   "id": "7bc5a997",
   "metadata": {},
   "outputs": [],
   "source": [
    "#확인용 주소\n",
    "#http://apis.data.go.kr/1613000/BldRgstService_v2/getBrBasisOulnInfo?sigunguCd=29110&bjdongCd=10100&pageNo=1&ServiceKey=%2BOMpPO1ZBbFFUaHQ0Xe%2FFOvM9tzEsH8J8ZrVQgFL6k1erhJeEbTYudz38k8u0gU9OZarmZMFPCiUYkoCNTe87g%3D%3D"
   ]
  },
  {
   "cell_type": "code",
   "execution_count": 77,
   "id": "f6ca8007",
   "metadata": {
    "scrolled": true
   },
   "outputs": [],
   "source": [
    "# 필요 태그 뽑아 엑셀 만들기\n",
    "rows = []\n",
    "for page_num in range(2):#<totalCount> meta 값 +1로 수정\n",
    "    url = 'http://apis.data.go.kr/1613000/BldRgstService_v2/getBrBasisOulnInfo?sigunguCd=29110&bjdongCd=10100&pageNo='+str(page_num)+'&ServiceKey=%2BOMpPO1ZBbFFUaHQ0Xe%2FFOvM9tzEsH8J8ZrVQgFL6k1erhJeEbTYudz38k8u0gU9OZarmZMFPCiUYkoCNTe87g%3D%3D'\n",
    "    url = requests.get(url)\n",
    "    url_open = BeautifulSoup(url.text, 'html.parser')\n",
    "    xtree = url_open.findAll('bjdongcd')\n",
    "    \n",
    "\n"
   ]
  },
  {
   "cell_type": "code",
   "execution_count": 78,
   "id": "d014149d",
   "metadata": {},
   "outputs": [
    {
     "data": {
      "text/plain": [
       "[<bjdongcd>10100</bjdongcd>,\n",
       " <bjdongcd>10100</bjdongcd>,\n",
       " <bjdongcd>10100</bjdongcd>,\n",
       " <bjdongcd>10100</bjdongcd>,\n",
       " <bjdongcd>10100</bjdongcd>,\n",
       " <bjdongcd>10100</bjdongcd>,\n",
       " <bjdongcd>10100</bjdongcd>,\n",
       " <bjdongcd>10100</bjdongcd>,\n",
       " <bjdongcd>10100</bjdongcd>,\n",
       " <bjdongcd>10100</bjdongcd>]"
      ]
     },
     "execution_count": 78,
     "metadata": {},
     "output_type": "execute_result"
    }
   ],
   "source": [
    "xtree"
   ]
  },
  {
   "cell_type": "code",
   "execution_count": 70,
   "id": "5ad016cb",
   "metadata": {},
   "outputs": [
    {
     "data": {
      "text/plain": [
       "[<item><bjdongcd>10100</bjdongcd><bldnm> </bldnm><block> </block><bun>0016</bun><bylotcnt>0</bylotcnt><crtnday>20200317</crtnday><guyukcd> </guyukcd><guyukcdnm> </guyukcdnm><ji>0005</ji><jigucd> </jigucd><jigucdnm> </jigucdnm><jiyukcd> </jiyukcd><jiyukcdnm> </jiyukcdnm><lot> </lot><mgmbldrgstpk>29110-666</mgmbldrgstpk><nabjdongcd>10101</nabjdongcd><namainbun>14.0</namainbun><naroadcd>291104277184</naroadcd><nasubbun>0.0</nasubbun><naugrndcd>0</naugrndcd><newplatplc> 광주광역시 동구 제봉로213번길 14</newplatplc><platgbcd>0</platgbcd><platplc>광주광역시 동구 대인동 16-5번지</platplc><regstrgbcd>1</regstrgbcd><regstrgbcdnm>일반</regstrgbcdnm><regstrkindcd>2</regstrkindcd><regstrkindcdnm>일반건축물</regstrkindcdnm><rnum>11</rnum><sigungucd>29110</sigungucd><splotnm> </splotnm></item>,\n",
       " <item><bjdongcd>10100</bjdongcd><bldnm> </bldnm><block> </block><bun>0016</bun><bylotcnt>0</bylotcnt><crtnday>20170321</crtnday><guyukcd> </guyukcd><guyukcdnm> </guyukcdnm><ji>0011</ji><jigucd> </jigucd><jigucdnm> </jigucdnm><jiyukcd> </jiyukcd><jiyukcdnm> </jiyukcdnm><lot> </lot><mgmbldrgstpk>29110-670</mgmbldrgstpk><mgmupbldrgstpk>29110-486</mgmupbldrgstpk><nabjdongcd>10101</nabjdongcd><namainbun>15.0</namainbun><naroadcd>291104277060</naroadcd><nasubbun>1.0</nasubbun><naugrndcd>0</naugrndcd><newplatplc> 광주광역시 동구 독립로264번길 15-1</newplatplc><platgbcd>0</platgbcd><platplc>광주광역시 동구 대인동 16-11번지</platplc><regstrgbcd>1</regstrgbcd><regstrgbcdnm>일반</regstrgbcdnm><regstrkindcd>2</regstrkindcd><regstrkindcdnm>일반건축물</regstrkindcdnm><rnum>12</rnum><sigungucd>29110</sigungucd><splotnm> </splotnm></item>,\n",
       " <item><bjdongcd>10100</bjdongcd><bldnm> </bldnm><block> </block><bun>0020</bun><bylotcnt>0</bylotcnt><crtnday>20171205</crtnday><guyukcd> </guyukcd><guyukcdnm> </guyukcdnm><ji>0000</ji><jigucd> </jigucd><jigucdnm> </jigucdnm><jiyukcd> </jiyukcd><jiyukcdnm> </jiyukcdnm><lot> </lot><mgmbldrgstpk>29110-675</mgmbldrgstpk><nabjdongcd> </nabjdongcd><namainbun>0.0</namainbun><naroadcd> </naroadcd><nasubbun>0.0</nasubbun><naugrndcd>0</naugrndcd><newplatplc> </newplatplc><platgbcd>0</platgbcd><platplc>광주광역시 동구 대인동 20번지</platplc><regstrgbcd>1</regstrgbcd><regstrgbcdnm>일반</regstrgbcdnm><regstrkindcd>2</regstrkindcd><regstrkindcdnm>일반건축물</regstrkindcdnm><rnum>13</rnum><sigungucd>29110</sigungucd><splotnm> </splotnm></item>,\n",
       " <item><bjdongcd>10100</bjdongcd><bldnm> </bldnm><block> </block><bun>0020</bun><bylotcnt>1</bylotcnt><crtnday>20210216</crtnday><guyukcd> </guyukcd><guyukcdnm> </guyukcdnm><ji>0010</ji><jigucd> </jigucd><jigucdnm> </jigucdnm><jiyukcd>1120</jiyukcd><jiyukcdnm>일반상업지역</jiyukcdnm><lot> </lot><mgmbldrgstpk>29110-676</mgmbldrgstpk><nabjdongcd>10101</nabjdongcd><namainbun>217.0</namainbun><naroadcd>291103009006</naroadcd><nasubbun>0.0</nasubbun><naugrndcd>0</naugrndcd><newplatplc> 광주광역시 동구 제봉로 217</newplatplc><platgbcd>0</platgbcd><platplc>광주광역시 동구 대인동 20-10번지</platplc><regstrgbcd>1</regstrgbcd><regstrgbcdnm>일반</regstrgbcdnm><regstrkindcd>2</regstrkindcd><regstrkindcdnm>일반건축물</regstrkindcdnm><rnum>14</rnum><sigungucd>29110</sigungucd><splotnm> </splotnm></item>,\n",
       " <item><bjdongcd>10100</bjdongcd><bldnm> </bldnm><block> </block><bun>0020</bun><bylotcnt>0</bylotcnt><crtnday>20170512</crtnday><guyukcd> </guyukcd><guyukcdnm> </guyukcdnm><ji>0012</ji><jigucd> </jigucd><jigucdnm> </jigucdnm><jiyukcd>1120</jiyukcd><jiyukcdnm>일반상업지역</jiyukcdnm><lot> </lot><mgmbldrgstpk>29110-677</mgmbldrgstpk><nabjdongcd>10101</nabjdongcd><namainbun>219.0</namainbun><naroadcd>291103009006</naroadcd><nasubbun>1.0</nasubbun><naugrndcd>0</naugrndcd><newplatplc> 광주광역시 동구 제봉로 219-1</newplatplc><platgbcd>0</platgbcd><platplc>광주광역시 동구 대인동 20-12번지</platplc><regstrgbcd>1</regstrgbcd><regstrgbcdnm>일반</regstrgbcdnm><regstrkindcd>2</regstrkindcd><regstrkindcdnm>일반건축물</regstrkindcdnm><rnum>15</rnum><sigungucd>29110</sigungucd><splotnm> </splotnm></item>,\n",
       " <item><bjdongcd>10100</bjdongcd><bldnm> </bldnm><block> </block><bun>0020</bun><bylotcnt>0</bylotcnt><crtnday>20170512</crtnday><guyukcd> </guyukcd><guyukcdnm> </guyukcdnm><ji>0013</ji><jigucd> </jigucd><jigucdnm> </jigucdnm><jiyukcd> </jiyukcd><jiyukcdnm> </jiyukcdnm><lot> </lot><mgmbldrgstpk>29110-678</mgmbldrgstpk><nabjdongcd>10101</nabjdongcd><namainbun>219.0</namainbun><naroadcd>291103009006</naroadcd><nasubbun>2.0</nasubbun><naugrndcd>0</naugrndcd><newplatplc> 광주광역시 동구 제봉로 219-2</newplatplc><platgbcd>0</platgbcd><platplc>광주광역시 동구 대인동 20-13번지</platplc><regstrgbcd>1</regstrgbcd><regstrgbcdnm>일반</regstrgbcdnm><regstrkindcd>2</regstrkindcd><regstrkindcdnm>일반건축물</regstrkindcdnm><rnum>16</rnum><sigungucd>29110</sigungucd><splotnm> </splotnm></item>,\n",
       " <item><bjdongcd>10100</bjdongcd><bldnm> </bldnm><block> </block><bun>0020</bun><bylotcnt>0</bylotcnt><crtnday>20171205</crtnday><guyukcd> </guyukcd><guyukcdnm> </guyukcdnm><ji>0014</ji><jigucd> </jigucd><jigucdnm> </jigucdnm><jiyukcd> </jiyukcd><jiyukcdnm> </jiyukcdnm><lot> </lot><mgmbldrgstpk>29110-679</mgmbldrgstpk><nabjdongcd>10101</nabjdongcd><namainbun>221.0</namainbun><naroadcd>291103009006</naroadcd><nasubbun>0.0</nasubbun><naugrndcd>0</naugrndcd><newplatplc> 광주광역시 동구 제봉로 221</newplatplc><platgbcd>0</platgbcd><platplc>광주광역시 동구 대인동 20-14번지</platplc><regstrgbcd>1</regstrgbcd><regstrgbcdnm>일반</regstrgbcdnm><regstrkindcd>2</regstrkindcd><regstrkindcdnm>일반건축물</regstrkindcdnm><rnum>17</rnum><sigungucd>29110</sigungucd><splotnm> </splotnm></item>,\n",
       " <item><bjdongcd>10100</bjdongcd><bldnm> </bldnm><block> </block><bun>0020</bun><bylotcnt>1</bylotcnt><crtnday>20190530</crtnday><guyukcd> </guyukcd><guyukcdnm> </guyukcdnm><ji>0017</ji><jigucd>UQG110</jigucd><jigucdnm>중심지미관지구</jigucdnm><jiyukcd>UQA210</jiyukcd><jiyukcdnm>중심상업지역</jiyukcdnm><lot> </lot><mgmbldrgstpk>29110-130002560</mgmbldrgstpk><nabjdongcd>10101</nabjdongcd><namainbun>221.0</namainbun><naroadcd>291103009006</naroadcd><nasubbun>1.0</nasubbun><naugrndcd>0</naugrndcd><newplatplc> 광주광역시 동구 제봉로 221-1</newplatplc><platgbcd>0</platgbcd><platplc>광주광역시 동구 대인동 20-17번지</platplc><regstrgbcd>1</regstrgbcd><regstrgbcdnm>일반</regstrgbcdnm><regstrkindcd>2</regstrkindcd><regstrkindcdnm>일반건축물</regstrkindcdnm><rnum>18</rnum><sigungucd>29110</sigungucd><splotnm> </splotnm></item>,\n",
       " <item><bjdongcd>10100</bjdongcd><bldnm> </bldnm><block> </block><bun>0020</bun><bylotcnt>0</bylotcnt><crtnday>20170512</crtnday><guyukcd> </guyukcd><guyukcdnm> </guyukcdnm><ji>0019</ji><jigucd> </jigucd><jigucdnm> </jigucdnm><jiyukcd> </jiyukcd><jiyukcdnm> </jiyukcdnm><lot> </lot><mgmbldrgstpk>29110-682</mgmbldrgstpk><nabjdongcd>10101</nabjdongcd><namainbun>219.0</namainbun><naroadcd>291103009006</naroadcd><nasubbun>3.0</nasubbun><naugrndcd>0</naugrndcd><newplatplc> 광주광역시 동구 제봉로 219-3</newplatplc><platgbcd>0</platgbcd><platplc>광주광역시 동구 대인동 20-19번지</platplc><regstrgbcd>1</regstrgbcd><regstrgbcdnm>일반</regstrgbcdnm><regstrkindcd>2</regstrkindcd><regstrkindcdnm>일반건축물</regstrkindcdnm><rnum>19</rnum><sigungucd>29110</sigungucd><splotnm> </splotnm></item>,\n",
       " <item><bjdongcd>10100</bjdongcd><bldnm> </bldnm><block> </block><bun>0020</bun><bylotcnt>0</bylotcnt><crtnday>20171205</crtnday><guyukcd> </guyukcd><guyukcdnm> </guyukcdnm><ji>0025</ji><jigucd> </jigucd><jigucdnm> </jigucdnm><jiyukcd> </jiyukcd><jiyukcdnm> </jiyukcdnm><lot> </lot><mgmbldrgstpk>29110-683</mgmbldrgstpk><nabjdongcd>10101</nabjdongcd><namainbun>215.0</namainbun><naroadcd>291103009006</naroadcd><nasubbun>0.0</nasubbun><naugrndcd>0</naugrndcd><newplatplc> 광주광역시 동구 제봉로 215</newplatplc><platgbcd>0</platgbcd><platplc>광주광역시 동구 대인동 20-25번지</platplc><regstrgbcd>1</regstrgbcd><regstrgbcdnm>일반</regstrgbcdnm><regstrkindcd>2</regstrkindcd><regstrkindcdnm>일반건축물</regstrkindcdnm><rnum>20</rnum><sigungucd>29110</sigungucd><splotnm> </splotnm></item>]"
      ]
     },
     "execution_count": 70,
     "metadata": {},
     "output_type": "execute_result"
    }
   ],
   "source": [
    "    count=len(xtree)\n",
    "\n",
    "    for node in range(count):\n",
    "        columns_top = xtree[node].find_all()\n",
    "        columnsLen_top = len(columns_top)"
   ]
  },
  {
   "cell_type": "code",
   "execution_count": null,
   "id": "840283c7",
   "metadata": {},
   "outputs": [],
   "source": [
    "#만들어야할 코드\n",
    "#<totalCount> meta 속성값 뽑기\n"
   ]
  },
  {
   "cell_type": "code",
   "execution_count": null,
   "id": "bb4d61aa",
   "metadata": {},
   "outputs": [],
   "source": [
    "#실험중인 코드\n",
    "#동구 번지 코드\n",
    "donggu_code=[10100, 10200, 10300,10400,10500,10600,10700,10800,10900,11000,\n",
    "             11100,11200,11300,11400,11500,11600,11700,11800,11900,12000,12100,\n",
    "             12200,12300,12400,12500,12600,12700,12800,12900,13000,13100,13200,\n",
    "             13300,13400]\n",
    "rows = []\n",
    "for bjdongCd in donggu_code:\n",
    "    #k=<totalCount> meta 속성값 뽑는 코드\n",
    "    for pageNo in range(k+1):\n",
    "        url = 'http://apis.data.go.kr/1613000/BldRgstService_v2/getBrBasisOulnInfo?sigunguCd=29110&bjdongCd='+str(bjdongCd)+'&pageNo='+str(pageNo)+'&ServiceKey=%2BOMpPO1ZBbFFUaHQ0Xe%2FFOvM9tzEsH8J8ZrVQgFL6k1erhJeEbTYudz38k8u0gU9OZarmZMFPCiUYkoCNTe87g%3D%3D'\n",
    "        data = urlopen(url).read()\n",
    "        xtree = ET.fromstring(data)\n",
    "\n",
    "        for node in xtree[1][0]:\n",
    "            n_platPlc = node.find('platPlc').text\n",
    "\n",
    "            rows.append({\n",
    "                'platPlc': n_platPlc\n",
    "            })\n",
    "\n",
    "columns=['platPlc']\n",
    "catalog_df = pd.DataFrame(rows, columns=columns)\n",
    "catalog_df.to_csv('final_donggu_bilding.csv', encoding='cp949')\n",
    "\n"
   ]
  }
 ],
 "metadata": {
  "kernelspec": {
   "display_name": "Python 3",
   "language": "python",
   "name": "python3"
  },
  "language_info": {
   "codemirror_mode": {
    "name": "ipython",
    "version": 3
   },
   "file_extension": ".py",
   "mimetype": "text/x-python",
   "name": "python",
   "nbconvert_exporter": "python",
   "pygments_lexer": "ipython3",
   "version": "3.8.8"
  }
 },
 "nbformat": 4,
 "nbformat_minor": 5
}
