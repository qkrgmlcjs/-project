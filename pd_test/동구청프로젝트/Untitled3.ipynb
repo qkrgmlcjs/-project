{
 "cells": [
  {
   "cell_type": "code",
   "execution_count": null,
   "id": "6c60a7e1-8f03-434e-8601-c6242958d03c",
   "metadata": {},
   "outputs": [
    {
     "name": "stdin",
     "output_type": "stream",
     "text": [
      " 3\n",
      " 1 1 1 1 1 1\n"
     ]
    },
    {
     "name": "stdout",
     "output_type": "stream",
     "text": [
      "1\n",
      "\n",
      "\n"
     ]
    }
   ],
   "source": [
    "import math\n",
    "t = int(input())\n",
    "while(t):\n",
    "   \n",
    "    x1,y1,r1,x2,y2,r2 = map(int,input().split())\n",
    "    d = math.sqrt((x1-x2)**2 + (y2-y1)**2)\n",
    "    rdiff = (r1-r2) if r1-r2>0 else (-1)*(r1-r2)\n",
    "        \n",
    "    if abs(r1-r2)< d< r1+r2 :\n",
    "        print(2)\n",
    "    elif r1+r2 == d or rdiff == d :\n",
    "        print(1)\n",
    "    elif d>r1+r2 < d or d<rdiff :\n",
    "        print(0)\n",
    "    elif d==0 and r1==r2:\n",
    "        print(-1)\n",
    "    print('\\n')\n",
    "    t-=1"
   ]
  },
  {
   "cell_type": "code",
   "execution_count": 1,
   "id": "757a0b85-0bba-4060-9fe3-14deb5e13740",
   "metadata": {},
   "outputs": [
    {
     "name": "stdin",
     "output_type": "stream",
     "text": [
      " 3\n",
      " 1 1 2 2 2 1\n"
     ]
    },
    {
     "name": "stdout",
     "output_type": "stream",
     "text": [
      "2\n"
     ]
    },
    {
     "name": "stdin",
     "output_type": "stream",
     "text": [
      " 1 1 1 1 1 1\n"
     ]
    },
    {
     "name": "stdout",
     "output_type": "stream",
     "text": [
      "1\n"
     ]
    },
    {
     "name": "stdin",
     "output_type": "stream",
     "text": [
      " 2 2 2 2 2 2\n"
     ]
    },
    {
     "name": "stdout",
     "output_type": "stream",
     "text": [
      "1\n"
     ]
    }
   ],
   "source": [
    "import math\n",
    "\n",
    "n = int(input())\n",
    "\n",
    "for i in range(n):\n",
    "    x1, y1, r1, x2, y2, r2 = map(int, input().split())\n",
    "    d = math.sqrt((x1-x2)**2 + (y1-y2)**2)  \n",
    "    if abs(r1-r2) < d < (r1+r2) : \n",
    "        print(2)\n",
    "    elif abs(r1-r2) == d or r1 + r2 == d:  \n",
    "        print(1)\n",
    "    elif d>r1+r2 or d < abs(r1-r2) : \n",
    "        print(0)\n",
    "    elif d == 0 and r1 == r2 :\n",
    "        print(-1) "
   ]
  },
  {
   "cell_type": "code",
   "execution_count": null,
   "id": "b9eb4f10-4c77-44dc-b178-72771ec1f0de",
   "metadata": {},
   "outputs": [],
   "source": [
    "import math\n",
    "\n",
    "n = int(input())\n",
    "\n",
    "for i in range(n):\n",
    "    x1, y1, r1, x2, y2, r2 = map(int, input().split())\n",
    "    distance = math.sqrt((x1-x2)**2 + (y1-y2)**2)  # 두 원의 거리 (원의방정식활용)\n",
    "    if distance == 0 and r1 == r2 :  # 두 원이 동심원이고 반지름이 같을 때\n",
    "        print(-1)\n",
    "    elif abs(r1-r2) == distance or r1 + r2 == distance:  # 내접, 외접일 때\n",
    "        print(1)\n",
    "    elif abs(r1-r2) < distance < (r1+r2) :  # 두 원이 서로다른 두 점에서 만날 때\n",
    "        print(2)\n",
    "    else:\n",
    "        print(0)  # 그 외에\n"
   ]
  }
 ],
 "metadata": {
  "kernelspec": {
   "display_name": "Python 3",
   "language": "python",
   "name": "python3"
  },
  "language_info": {
   "codemirror_mode": {
    "name": "ipython",
    "version": 3
   },
   "file_extension": ".py",
   "mimetype": "text/x-python",
   "name": "python",
   "nbconvert_exporter": "python",
   "pygments_lexer": "ipython3",
   "version": "3.8.8"
  }
 },
 "nbformat": 4,
 "nbformat_minor": 5
}
