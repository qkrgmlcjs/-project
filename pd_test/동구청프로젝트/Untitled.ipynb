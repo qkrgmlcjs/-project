{
 "cells": [
  {
   "cell_type": "code",
   "execution_count": 9,
   "id": "ed989a3b-8127-4add-83d7-0bc49e9ce116",
   "metadata": {},
   "outputs": [],
   "source": [
    "from urllib.request import urlopen\n",
    "from urllib.parse import urlencode, unquote, quote_plus\n",
    "import urllib\n",
    "\n",
    "import pandas as pd\n",
    "from bs4 import BeautifulSoup\n",
    "import requests\n",
    "import time\n",
    "import xml.etree.ElementTree as ET"
   ]
  },
  {
   "cell_type": "code",
   "execution_count": 10,
   "id": "84416d93-1f28-4757-8939-e6fa84faa0e7",
   "metadata": {},
   "outputs": [],
   "source": [
    "key = '%2BOMpPO1ZBbFFUaHQ0Xe%2FFOvM9tzEsH8J8ZrVQgFL6k1erhJeEbTYudz38k8u0gU9OZarmZMFPCiUYkoCNTe87g%3D%3D'"
   ]
  },
  {
   "cell_type": "code",
   "execution_count": 11,
   "id": "1c1d8040-bdc4-4c19-b466-51cef01651db",
   "metadata": {},
   "outputs": [],
   "source": [
    "busRouteId='100100118'\n",
    "sigunguCd='29110'\n",
    "bjdongCd='10100'\n"
   ]
  },
  {
   "cell_type": "code",
   "execution_count": 12,
   "id": "fc022539-53ab-4455-a914-a57142bf8614",
   "metadata": {},
   "outputs": [
    {
     "name": "stdout",
     "output_type": "stream",
     "text": [
      "http://apis.data.go.kr/1613000/BldRgstService_v2/getBrBasisOulnInfo?sigunguCd=29110&bjdongCd=10100&ServiceKey=%2BOMpPO1ZBbFFUaHQ0Xe%2FFOvM9tzEsH8J8ZrVQgFL6k1erhJeEbTYudz38k8u0gU9OZarmZMFPCiUYkoCNTe87g%3D%3D\n"
     ]
    }
   ],
   "source": [
    "queryParams = 'sigunguCd='+sigunguCd+'&bjdongCd='+bjdongCd +'&ServiceKey='+key\n",
    "url = 'http://apis.data.go.kr/1613000/BldRgstService_v2/getBrBasisOulnInfo?'+queryParams\n",
    "\n",
    "print(url)"
   ]
  },
  {
   "cell_type": "code",
   "execution_count": 17,
   "id": "4c313a4f-864a-4297-9ae8-a3dc6b98390c",
   "metadata": {},
   "outputs": [],
   "source": [
    "request = urllib.request.Request(url + unquote(queryParams))"
   ]
  },
  {
   "cell_type": "code",
   "execution_count": 18,
   "id": "a7023fca-30dc-4a17-904d-41b57e92fd0d",
   "metadata": {},
   "outputs": [
    {
     "data": {
      "text/plain": [
       "b'<OpenAPI_ServiceResponse>\\n\\t<cmmMsgHeader>\\n\\t\\t<errMsg>SERVICE ERROR</errMsg>\\n\\t\\t<returnAuthMsg>SERVICE_KEY_IS_NOT_REGISTERED_ERROR</returnAuthMsg>\\n\\t\\t<returnReasonCode>30</returnReasonCode>\\n\\t</cmmMsgHeader>\\n</OpenAPI_ServiceResponse>'"
      ]
     },
     "execution_count": 18,
     "metadata": {},
     "output_type": "execute_result"
    }
   ],
   "source": [
    "response_body = urlopen(request, timeout=60).read()\n",
    "response_body"
   ]
  },
  {
   "cell_type": "code",
   "execution_count": null,
   "id": "a521b2f2-0831-4fd4-b16b-63ec484609a1",
   "metadata": {},
   "outputs": [],
   "source": [
    "print(html[:400])"
   ]
  },
  {
   "cell_type": "code",
   "execution_count": null,
   "id": "060315a8-532d-453a-adef-73f815f4f205",
   "metadata": {},
   "outputs": [],
   "source": [
    "soup = BeautifulSoup(html, 'html.parser')"
   ]
  },
  {
   "cell_type": "code",
   "execution_count": null,
   "id": "c36f815e-4bc7-418c-a439-4f365f1483fa",
   "metadata": {},
   "outputs": [],
   "source": [
    "soup"
   ]
  },
  {
   "cell_type": "code",
   "execution_count": null,
   "id": "d1e27f83-9551-403c-8b07-5737eb172ac7",
   "metadata": {},
   "outputs": [],
   "source": [
    "finded_values=soup.find_all('stnm')\n",
    "[x.text for x in finded_values][:5] # .text를 통해 안의 내용물만을 불러옵니다"
   ]
  },
  {
   "cell_type": "code",
   "execution_count": null,
   "id": "ff43e3c1-564a-4648-ba2e-9ad8c8eea03c",
   "metadata": {},
   "outputs": [],
   "source": []
  }
 ],
 "metadata": {
  "kernelspec": {
   "display_name": "Python 3",
   "language": "python",
   "name": "python3"
  },
  "language_info": {
   "codemirror_mode": {
    "name": "ipython",
    "version": 3
   },
   "file_extension": ".py",
   "mimetype": "text/x-python",
   "name": "python",
   "nbconvert_exporter": "python",
   "pygments_lexer": "ipython3",
   "version": "3.8.8"
  }
 },
 "nbformat": 4,
 "nbformat_minor": 5
}
