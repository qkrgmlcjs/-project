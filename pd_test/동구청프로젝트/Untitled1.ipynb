{
 "cells": [
  {
   "cell_type": "code",
   "execution_count": 6,
   "id": "8be21c42-1aa7-4968-8a5b-bdae71541482",
   "metadata": {},
   "outputs": [],
   "source": [
    "from urllib.request import urlopen\n",
    "from urllib.parse import urlencode, quote_plus, unquote\n",
    "\n",
    "import xml.etree.ElementTree as ET\n",
    "import pandas as pd\n",
    "import requests, bs4\n",
    "import pandas as pd\n",
    "from lxml import html\n",
    "from urllib.request import Request, urlopen\n",
    "from urllib.parse import urlencode, quote_plus, unquote\n",
    "import re\n",
    "import time"
   ]
  },
  {
   "cell_type": "code",
   "execution_count": null,
   "id": "b1d03980-1eb8-4ad7-9c09-b1a803a36c1c",
   "metadata": {},
   "outputs": [],
   "source": [
    "# 필요 태그 뽑아 엑셀 만들기\n",
    "rows = []\n",
    "na=[]\n",
    "for page_num in range(300):\n",
    "    xmlUrl = 'http://apis.data.go.kr/1613000/BldRgstService_v2/getBrBasisOulnInfo?sigunguCd=29110&bjdongCd=10100&pageNo='+str(page_num)+'&ServiceKey=%2BOMpPO1ZBbFFUaHQ0Xe%2FFOvM9tzEsH8J8ZrVQgFL6k1erhJeEbTYudz38k8u0gU9OZarmZMFPCiUYkoCNTe87g%3D%3D'\n",
    "    response = requests.get(xmlUrl).text.encode('utf-8')\n",
    "    xmlobj = bs4.BeautifulSoup(response, 'lxml-xml')\n",
    "    \n",
    "    rows=xmlobj.find_all('item')\n",
    "    row_lenth=len(rows)\n",
    "\n",
    "    for i in range(row_lenth):\n",
    "        columns=rows[i].find('platPlc').text\n",
    "\n",
    "        na.append({\n",
    "            'platPlc': columns\n",
    "        })\n",
    "columns=['platPlc']\n",
    "catalog_df = pd.DataFrame(na, columns=columns)\n",
    "catalog_df\n",
    "#catalog_df.to_csv('donggu.csv', encoding='cp949')"
   ]
  },
  {
   "cell_type": "code",
   "execution_count": null,
   "id": "f6c95724-f772-4b7b-b3f5-d882f054650f",
   "metadata": {},
   "outputs": [],
   "source": []
  }
 ],
 "metadata": {
  "kernelspec": {
   "display_name": "Python 3",
   "language": "python",
   "name": "python3"
  },
  "language_info": {
   "codemirror_mode": {
    "name": "ipython",
    "version": 3
   },
   "file_extension": ".py",
   "mimetype": "text/x-python",
   "name": "python",
   "nbconvert_exporter": "python",
   "pygments_lexer": "ipython3",
   "version": "3.8.8"
  }
 },
 "nbformat": 4,
 "nbformat_minor": 5
}
