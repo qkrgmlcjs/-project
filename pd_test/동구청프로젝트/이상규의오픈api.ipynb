{
 "cells": [
  {
   "cell_type": "code",
   "execution_count": 1,
   "id": "e3a2dfbd-40e9-4265-abce-3b9cdff4f181",
   "metadata": {},
   "outputs": [],
   "source": [
    "import pandas as pd\n",
    "from bs4 import BeautifulSoup\n",
    "import json\n",
    "import urllib.request\n",
    "from urllib.parse import urlencode, quote_plus, unquote\n",
    "import requests"
   ]
  },
  {
   "cell_type": "code",
   "execution_count": 2,
   "id": "7ecad461-5891-416d-9ef0-0f643cfd5279",
   "metadata": {},
   "outputs": [],
   "source": [
    "#top 키워드 분석\n",
    "\n",
    "url_top = 'http://apis.data.go.kr/1140100/minAnalsInfoView2/minTopNKeyword2'\n",
    "MyApiKey_top = unquote('d%2B9KOMPJFLpGdPTXrXRob9bSfOWl98bd5iJbQIaltervWD7B0RiBrOXnFbZtaedq6Y8rPVwucZPx98JoliinUA%3D%3D')\n",
    "\n",
    "\n",
    "queryParams_top = '?' + urlencode({\n",
    "    quote_plus('ServiceKey') : MyApiKey_top,\n",
    "    quote_plus('target') : 'pttn,dfpt,saeol',\n",
    "    quote_plus('searchword') : '',\n",
    "    quote_plus('depCode') : '',\n",
    "    quote_plus('depCodePath') : '',\n",
    "    quote_plus('dateFrom') : '20200101',\n",
    "    quote_plus('dateTo') : '20201231',\n",
    "    quote_plus('resultCount') : '10',\n",
    "    quote_plus('searchCount') : '100',\n",
    "    quote_plus('dataType') : 'xml'\n",
    "})\n",
    "\n",
    "req_top = requests.get(url_top + queryParams_top)\n",
    "xmlobj_top = BeautifulSoup(req_top.text, 'lxml-xml')\n",
    "rows_top = xmlobj_top.findAll('item')\n",
    "\n",
    "columns_top = rows_top[0].find_all()\n",
    "\n",
    "rowList_top = []\n",
    "nameList_top = []\n",
    "columnList_top = []\n",
    "\n",
    "rowsLen_top = len(rows_top)\n",
    "for i in range(0, rowsLen_top):\n",
    "    columns_top = rows_top[i].find_all()\n",
    "\n",
    "    columnsLen_top = len(columns_top)\n",
    "    for j in range(0, columnsLen_top):\n",
    "        if i == 0:\n",
    "            nameList_top.append(columns_top[j].name)\n",
    "        eachColumn_top = columns_top[j].text\n",
    "        columnList_top.append(eachColumn_top)\n",
    "    rowList_top.append(columnList_top)\n",
    "    columnList_top = []\n",
    "\n",
    "result_top = pd.DataFrame(rowList_top, columns=nameList_top)"
   ]
  },
  {
   "cell_type": "code",
   "execution_count": 3,
   "id": "01a7c0d9-a165-4922-bb98-64683a99f124",
   "metadata": {
    "tags": []
   },
   "outputs": [
    {
     "data": {
      "text/html": [
       "<div>\n",
       "<style scoped>\n",
       "    .dataframe tbody tr th:only-of-type {\n",
       "        vertical-align: middle;\n",
       "    }\n",
       "\n",
       "    .dataframe tbody tr th {\n",
       "        vertical-align: top;\n",
       "    }\n",
       "\n",
       "    .dataframe thead th {\n",
       "        text-align: right;\n",
       "    }\n",
       "</style>\n",
       "<table border=\"1\" class=\"dataframe\">\n",
       "  <thead>\n",
       "    <tr style=\"text-align: right;\">\n",
       "      <th></th>\n",
       "      <th>label</th>\n",
       "      <th>value</th>\n",
       "    </tr>\n",
       "  </thead>\n",
       "  <tbody>\n",
       "    <tr>\n",
       "      <th>0</th>\n",
       "      <td>수정구청</td>\n",
       "      <td>930.0</td>\n",
       "    </tr>\n",
       "    <tr>\n",
       "      <th>1</th>\n",
       "      <td>분당구청</td>\n",
       "      <td>868.0</td>\n",
       "    </tr>\n",
       "    <tr>\n",
       "      <th>2</th>\n",
       "      <td>분당</td>\n",
       "      <td>810.0</td>\n",
       "    </tr>\n",
       "    <tr>\n",
       "      <th>3</th>\n",
       "      <td>휴대폰</td>\n",
       "      <td>792.0</td>\n",
       "    </tr>\n",
       "    <tr>\n",
       "      <th>4</th>\n",
       "      <td>성남</td>\n",
       "      <td>528.0</td>\n",
       "    </tr>\n",
       "  </tbody>\n",
       "</table>\n",
       "</div>"
      ],
      "text/plain": [
       "  label  value\n",
       "0  수정구청  930.0\n",
       "1  분당구청  868.0\n",
       "2    분당  810.0\n",
       "3   휴대폰  792.0\n",
       "4    성남  528.0"
      ]
     },
     "execution_count": 3,
     "metadata": {},
     "output_type": "execute_result"
    }
   ],
   "source": [
    "result_top.head()"
   ]
  },
  {
   "cell_type": "code",
   "execution_count": 9,
   "id": "378476e6-fa17-4d53-9031-7546ed4aea0b",
   "metadata": {},
   "outputs": [],
   "source": [
    "result_top.to_excel(\"result_top.xlsx\")"
   ]
  },
  {
   "cell_type": "code",
   "execution_count": null,
   "id": "af3919c3-eb33-4d0a-8c62-62b87cf0cb2e",
   "metadata": {},
   "outputs": [],
   "source": [
    "\"\"\"\n",
    "url = 'http://apis.data.go.kr/1140100/minAnalsInfoView2/minTopNKeyword2'\n",
    "MyApiKey = unquote('d%2B9KOMPJFLpGdPTXrXRob9bSfOWl98bd5iJbQIaltervWD7B0RiBrOXnFbZtaedq6Y8rPVwucZPx98JoliinUA%3D%3D')\n",
    "\n",
    "queryParams = '?' + urlencode({\n",
    "    quote_plus('ServiceKey') : MyApiKey, \n",
    "    quote_plus('resultCount') : '100',\n",
    "    quote_plus('searchCount') : '1000', \n",
    "    quote_plus('target') : 'pttn,dfpt,saeol',\n",
    "    quote_plus('searchword') : '',\n",
    "    quote_plus('depCode') : '6290000',\n",
    "    quote_plus('dateFrom') : '20200101',\n",
    "    quote_plus('dateTo') : '20201231',\n",
    "    quote_plus('dataType') : 'xml',\n",
    "    quote_plus('depCodePath') : '0000000/6480000/6290000'\n",
    "})\n",
    "\n",
    "req = requests.get(url + queryParams)\n",
    "xmlobj = BeautifulSoup(req.text, 'lxml-xml')\n",
    "rows = xmlobj.findAll('item')\n",
    "\n",
    "columns = rows[0].find_all()\n",
    "\n",
    "rowList = []\n",
    "nameList = []\n",
    "columnList = []\n",
    "\n",
    "rowsLen = len(rows)\n",
    "for i in range(0, rowsLen):\n",
    "    columns = rows[i].find_all()\n",
    "\n",
    "    columnsLen = len(columns)\n",
    "    for j in range(0, columnsLen):\n",
    "        if i == 0:\n",
    "            nameList.append(columns[j].name)\n",
    "        eachColumn = columns[j].text\n",
    "        columnList.append(eachColumn)\n",
    "    rowList.append(columnList)\n",
    "    columnList = []\n",
    "\n",
    "result = pd.DataFrame(rowList, columns=nameList)\n",
    "\"\"\""
   ]
  },
  {
   "cell_type": "markdown",
   "id": "291fd5b0-7570-455f-bcfc-d8392ec9950f",
   "metadata": {},
   "source": [
    "이거 쓰시면 됩니다"
   ]
  },
  {
   "cell_type": "code",
   "execution_count": 94,
   "id": "61cd9324-63db-415a-b6a2-e3dd24bc234d",
   "metadata": {},
   "outputs": [
    {
     "name": "stdin",
     "output_type": "stream",
     "text": [
      "검색 키워드를 입력하세요 :  어르신\n"
     ]
    }
   ],
   "source": [
    "#유사 사례 정보\n",
    "\n",
    "url_sim = 'http://apis.data.go.kr/1140100/minAnalsInfoView2/minSimilarInfo2'\n",
    "MyApiKey_sim = unquote('d%2B9KOMPJFLpGdPTXrXRob9bSfOWl98bd5iJbQIaltervWD7B0RiBrOXnFbZtaedq6Y8rPVwucZPx98JoliinUA%3D%3D')\n",
    "\n",
    "searchword_sim = input('검색 키워드를 입력하세요 : ')\n",
    "\n",
    "queryParams_sim = '?' + urlencode({\n",
    "    quote_plus('ServiceKey') : MyApiKey_sim,\n",
    "    quote_plus('startPos') : '1',\n",
    "    quote_plus('retCount') : '300', \n",
    "    quote_plus('target') : 'qna,qna_origin', #정책 Q&A , 민원 게시글 의미\n",
    "    quote_plus('searchword') : searchword_sim, #keyword 검색 설정\n",
    "    quote_plus('mainSubCd') : '',         #기관코드\n",
    "    quote_plus('mainSubCdPath') : '',     #기관코드\n",
    "    quote_plus('mngDepCode') : '',        #기관-부서코드\n",
    "    quote_plus('mngDepCodePath') : '',    #기관-부서코드\n",
    "    quote_plus('dateFrom') : '20200101',          #날짜 설정 (시작일)\n",
    "    quote_plus('dateTo') : '20210731',            #날짜 설정 (종료일)\n",
    "    quote_plus('mainscore') : '2',\n",
    "    quote_plus('dataType') : 'xml'        #데이터 타입 xml, json 있어요.\n",
    "})\n",
    "\n",
    "req_sim = requests.get(url_sim + queryParams_sim)\n",
    "xmlobj_sim = BeautifulSoup(req_sim.text, 'lxml-xml')\n",
    "rows_sim = xmlobj_sim.findAll('item')\n",
    "\n",
    "\n",
    "rowList_sim = []\n",
    "nameList_sim = []\n",
    "columnList_sim = []\n",
    "\n",
    "rowsLen_sim = len(rows_sim)\n",
    "for i in range(0, rowsLen_sim):\n",
    "    columns_sim = rows_sim[i].find_all()\n",
    "\n",
    "    columnsLen_sim = len(columns_sim)\n",
    "    for j in range(0, columnsLen_sim):\n",
    "        if i == 0:\n",
    "            nameList_sim.append(columns_sim[j].name)\n",
    "        eachColumn_sim = columns_sim[j].text\n",
    "        columnList_sim.append(eachColumn_sim)\n",
    "    rowList_sim.append(columnList_sim)\n",
    "    columnList_sim = []\n",
    "\n",
    "result_sim = pd.DataFrame(rowList_sim, columns=nameList_sim)"
   ]
  },
  {
   "cell_type": "code",
   "execution_count": 95,
   "id": "8d1942b4-db43-4132-b3cb-c8d6658ebe5c",
   "metadata": {
    "tags": []
   },
   "outputs": [
    {
     "data": {
      "text/html": [
       "<div>\n",
       "<style scoped>\n",
       "    .dataframe tbody tr th:only-of-type {\n",
       "        vertical-align: middle;\n",
       "    }\n",
       "\n",
       "    .dataframe tbody tr th {\n",
       "        vertical-align: top;\n",
       "    }\n",
       "\n",
       "    .dataframe thead th {\n",
       "        text-align: right;\n",
       "    }\n",
       "</style>\n",
       "<table border=\"1\" class=\"dataframe\">\n",
       "  <thead>\n",
       "    <tr style=\"text-align: right;\">\n",
       "      <th></th>\n",
       "    </tr>\n",
       "  </thead>\n",
       "  <tbody>\n",
       "  </tbody>\n",
       "</table>\n",
       "</div>"
      ],
      "text/plain": [
       "Empty DataFrame\n",
       "Columns: []\n",
       "Index: []"
      ]
     },
     "execution_count": 95,
     "metadata": {},
     "output_type": "execute_result"
    }
   ],
   "source": [
    "result_sim"
   ]
  },
  {
   "cell_type": "code",
   "execution_count": 89,
   "id": "09bdd7a4-20b5-411f-8d9b-ca50df2e2729",
   "metadata": {},
   "outputs": [],
   "source": [
    "filename = 'searchword_'+searchword_sim+'.csv'\n",
    "\n",
    "result_sim.to_csv(filename, encoding = 'utf-8-sig')"
   ]
  },
  {
   "cell_type": "code",
   "execution_count": null,
   "id": "a225938a-1dbb-4657-80f5-72ff07b7fd18",
   "metadata": {},
   "outputs": [],
   "source": []
  },
  {
   "cell_type": "code",
   "execution_count": 113,
   "id": "ea4d1b94-11c0-4b40-9e1b-e94b2a8e1eb7",
   "metadata": {},
   "outputs": [],
   "source": [
    "#급증 키워드 정보\n",
    "\n",
    "url_sud = 'http://apis.data.go.kr/1140100/minAnalsInfoView2/minTopNKeyword2'\n",
    "MyApiKey_sud = unquote('d%2B9KOMPJFLpGdPTXrXRob9bSfOWl98bd5iJbQIaltervWD7B0RiBrOXnFbZtaedq6Y8rPVwucZPx98JoliinUA%3D%3D')\n",
    "\n",
    "queryParams_sud = '?' + urlencode({\n",
    "    quote_plus('ServiceKey') : MyApiKey_sud, \n",
    "    quote_plus('scoreMode') : 'risingSudden',\n",
    "    quote_plus('analysisTime') : '20201105',\n",
    "    quote_plus('maxResult') : '100',\n",
    "    quote_plus('target') : 'pttn,dfpt,saeol,twitter',\n",
    "    quote_plus('mainSubCode') : '',\n",
    "    quote_plus('brtcNameAKeyword') : '',\n",
    "    quote_plus('classificationMulti') : '',\n",
    "    quote_plus('age') : '',\n",
    "    quote_plus('dataType') : 'xml'\n",
    "})\n",
    "\n",
    "req_sud = requests.get(url_sud + queryParams_sud)\n",
    "xmlobj_sud = BeautifulSoup(req_sud.text, 'lxml-xml')\n",
    "rows_sud = xmlobj_sud.findAll('item')\n",
    "\n",
    "rowList_sud = []\n",
    "nameList_sud = []\n",
    "columnList_sud = []\n",
    "\n",
    "rowsLen_sud = len(rows_sud)\n",
    "for i in range(0, rowsLen_sud):\n",
    "    columns_sud = rows_sud[i].find_all()\n",
    "\n",
    "    columnsLen_sud = len(columns_sud)\n",
    "    for j in range(0, columnsLen_sud):\n",
    "        if i == 0:\n",
    "            nameList_sud.append(columns_sud[j].name)\n",
    "        eachColumn_sud = columns_sud[j].text\n",
    "        columnList_sud.append(eachColumn_sud)\n",
    "    rowList_sud.append(columnList_sud)\n",
    "    columnList_sud = []\n",
    "\n",
    "result_sud = pd.DataFrame(rowList_sud, columns=nameList_sud)"
   ]
  },
  {
   "cell_type": "code",
   "execution_count": 114,
   "id": "18a5ead1-d4cf-4cf3-bc0f-357ff6c6625f",
   "metadata": {},
   "outputs": [
    {
     "data": {
      "text/plain": [
       "<?xml version=\"1.0\" encoding=\"utf-8\"?>\n",
       "<response>\n",
       "<header>\n",
       "<resultCode>200</resultCode>\n",
       "<resultMsg>NORMAL SERVICE</resultMsg>\n",
       "</header>\n",
       "<body>\n",
       "<items>\n",
       "<item>\n",
       "<label>휴대폰</label>\n",
       "<value>1504.0</value>\n",
       "</item>\n",
       "<item>\n",
       "<label>분당구청</label>\n",
       "<value>996.0</value>\n",
       "</item>\n",
       "</items>\n",
       "</body>\n",
       "</response>"
      ]
     },
     "execution_count": 114,
     "metadata": {},
     "output_type": "execute_result"
    }
   ],
   "source": [
    "xmlobj_sud"
   ]
  },
  {
   "cell_type": "code",
   "execution_count": 109,
   "id": "0612f956-a9fc-47c4-8b91-f33a7835aafd",
   "metadata": {},
   "outputs": [
    {
     "data": {
      "text/plain": [
       "'?ServiceKey=d%2B9KOMPJFLpGdPTXrXRob9bSfOWl98bd5iJbQIaltervWD7B0RiBrOXnFbZtaedq6Y8rPVwucZPx98JoliinUA%3D%3D&scoreMode=rising&analysisTime=20201105&maxResult=100&target=pttn%2Cdfpt%2Csaeol%2Ctwitter&mainSubCode=&brtcNameAKeyword=&classificationMulti=&age=&dataType=xml'"
      ]
     },
     "execution_count": 109,
     "metadata": {},
     "output_type": "execute_result"
    }
   ],
   "source": [
    "queryParams_sud"
   ]
  },
  {
   "cell_type": "code",
   "execution_count": 110,
   "id": "033570f1-f2b1-4dfa-8324-c38f0cc726fc",
   "metadata": {},
   "outputs": [
    {
     "data": {
      "text/html": [
       "<div>\n",
       "<style scoped>\n",
       "    .dataframe tbody tr th:only-of-type {\n",
       "        vertical-align: middle;\n",
       "    }\n",
       "\n",
       "    .dataframe tbody tr th {\n",
       "        vertical-align: top;\n",
       "    }\n",
       "\n",
       "    .dataframe thead th {\n",
       "        text-align: right;\n",
       "    }\n",
       "</style>\n",
       "<table border=\"1\" class=\"dataframe\">\n",
       "  <thead>\n",
       "    <tr style=\"text-align: right;\">\n",
       "      <th></th>\n",
       "      <th>label</th>\n",
       "      <th>value</th>\n",
       "    </tr>\n",
       "  </thead>\n",
       "  <tbody>\n",
       "    <tr>\n",
       "      <th>0</th>\n",
       "      <td>휴대폰</td>\n",
       "      <td>1504.0</td>\n",
       "    </tr>\n",
       "    <tr>\n",
       "      <th>1</th>\n",
       "      <td>분당구청</td>\n",
       "      <td>996.0</td>\n",
       "    </tr>\n",
       "  </tbody>\n",
       "</table>\n",
       "</div>"
      ],
      "text/plain": [
       "  label   value\n",
       "0   휴대폰  1504.0\n",
       "1  분당구청   996.0"
      ]
     },
     "execution_count": 110,
     "metadata": {},
     "output_type": "execute_result"
    }
   ],
   "source": [
    "result_sud"
   ]
  },
  {
   "cell_type": "code",
   "execution_count": 95,
   "id": "27b7afbf-3f88-481f-bf5d-059e7759483c",
   "metadata": {},
   "outputs": [],
   "source": [
    "result_sud.to_excel('result_sud.xlsx')"
   ]
  },
  {
   "cell_type": "code",
   "execution_count": null,
   "id": "205d0ab8-bb11-44fa-8eea-4fd5fb0a78dc",
   "metadata": {},
   "outputs": [],
   "source": []
  }
 ],
 "metadata": {
  "kernelspec": {
   "display_name": "Python 3",
   "language": "python",
   "name": "python3"
  },
  "language_info": {
   "codemirror_mode": {
    "name": "ipython",
    "version": 3
   },
   "file_extension": ".py",
   "mimetype": "text/x-python",
   "name": "python",
   "nbconvert_exporter": "python",
   "pygments_lexer": "ipython3",
   "version": "3.8.8"
  }
 },
 "nbformat": 4,
 "nbformat_minor": 5
}
