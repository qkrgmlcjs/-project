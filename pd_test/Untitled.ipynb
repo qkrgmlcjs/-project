{
 "cells": [
  {
   "cell_type": "code",
   "execution_count": 1,
   "id": "fb9bef87-c696-4d5d-bee3-a91964c53c7c",
   "metadata": {},
   "outputs": [],
   "source": [
    "리스트1=[10,20,30]"
   ]
  },
  {
   "cell_type": "code",
   "execution_count": 2,
   "id": "daaa88db-41d1-4c86-a962-3f2c38d33eb9",
   "metadata": {},
   "outputs": [
    {
     "data": {
      "text/plain": [
       "[10, 20, 30]"
      ]
     },
     "execution_count": 2,
     "metadata": {},
     "output_type": "execute_result"
    }
   ],
   "source": [
    "리스트1\n"
   ]
  },
  {
   "cell_type": "code",
   "execution_count": 3,
   "id": "6e3336bc-f5cd-45a5-9c81-3548965f08b2",
   "metadata": {},
   "outputs": [
    {
     "data": {
      "text/plain": [
       "list"
      ]
     },
     "execution_count": 3,
     "metadata": {},
     "output_type": "execute_result"
    }
   ],
   "source": [
    "type(리스트1)"
   ]
  },
  {
   "cell_type": "code",
   "execution_count": 4,
   "id": "fa6e641f-ee00-40cb-87c5-9ecc12a049e4",
   "metadata": {},
   "outputs": [
    {
     "name": "stdout",
     "output_type": "stream",
     "text": [
      "[10, 20, 30]\n"
     ]
    }
   ],
   "source": [
    "print(리스트1)"
   ]
  },
  {
   "cell_type": "code",
   "execution_count": 5,
   "id": "15a817ea-dcd0-4e45-86a9-272d3ee9aa42",
   "metadata": {},
   "outputs": [],
   "source": [
    "리스트1.append(10)"
   ]
  },
  {
   "cell_type": "code",
   "execution_count": 6,
   "id": "3b9b6c23-6157-4aca-adb0-81def77df0a9",
   "metadata": {},
   "outputs": [
    {
     "data": {
      "text/plain": [
       "[10, 20, 30, 10]"
      ]
     },
     "execution_count": 6,
     "metadata": {},
     "output_type": "execute_result"
    }
   ],
   "source": [
    "리스트1"
   ]
  },
  {
   "cell_type": "code",
   "execution_count": 7,
   "id": "89eff81d-e9de-4742-96ab-4116c85868f0",
   "metadata": {},
   "outputs": [],
   "source": [
    "리스트1.remove(10)"
   ]
  },
  {
   "cell_type": "code",
   "execution_count": 8,
   "id": "a99b4643-6c03-4c32-9fe8-f5d1e88f4bdb",
   "metadata": {},
   "outputs": [
    {
     "data": {
      "text/plain": [
       "[20, 30, 10]"
      ]
     },
     "execution_count": 8,
     "metadata": {},
     "output_type": "execute_result"
    }
   ],
   "source": [
    "리스트1"
   ]
  },
  {
   "cell_type": "code",
   "execution_count": null,
   "id": "3b2520b2-4b61-4a24-bad8-44b032f7a85a",
   "metadata": {},
   "outputs": [],
   "source": []
  }
 ],
 "metadata": {
  "kernelspec": {
   "display_name": "Python 3",
   "language": "python",
   "name": "python3"
  },
  "language_info": {
   "codemirror_mode": {
    "name": "ipython",
    "version": 3
   },
   "file_extension": ".py",
   "mimetype": "text/x-python",
   "name": "python",
   "nbconvert_exporter": "python",
   "pygments_lexer": "ipython3",
   "version": "3.8.8"
  }
 },
 "nbformat": 4,
 "nbformat_minor": 5
}
